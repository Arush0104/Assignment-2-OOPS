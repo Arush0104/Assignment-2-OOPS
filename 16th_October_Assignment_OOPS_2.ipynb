{
 "cells": [
  {
   "cell_type": "markdown",
   "metadata": {},
   "source": [
    "<h3>Constructor</h3>"
   ]
  },
  {
   "cell_type": "code",
   "execution_count": 46,
   "metadata": {},
   "outputs": [
    {
     "name": "stdout",
     "output_type": "stream",
     "text": [
      "\n",
      "      A constructor is a special function __init__() that runs automatically when you create an object from a class.\n",
      "      It is used to initialise values to attributes in a class.\n",
      "      \n"
     ]
    }
   ],
   "source": [
    "#Question 1\n",
    "print(\"\"\"\n",
    "      A constructor is a special function __init__() that runs automatically when you create an object from a class.\n",
    "      It is used to initialise values to attributes in a class.\n",
    "      \"\"\")"
   ]
  },
  {
   "cell_type": "code",
   "execution_count": 47,
   "metadata": {},
   "outputs": [
    {
     "name": "stdout",
     "output_type": "stream",
     "text": [
      "\n",
      "      Both parameterised and parameterless constructor use the _init__ function. A parameterless constructor does not take any arguments except the self argument.\n",
      "      Whilst parameterised constructor takes more than 1 argument.\n",
      "      \n"
     ]
    }
   ],
   "source": [
    "#Question 2\n",
    "print(\"\"\"\n",
    "      Both parameterised and parameterless constructor use the _init__ function. A parameterless constructor does not take any arguments except the self argument.\n",
    "      Whilst parameterised constructor takes more than 1 argument.\n",
    "      \"\"\")"
   ]
  },
  {
   "cell_type": "code",
   "execution_count": 48,
   "metadata": {},
   "outputs": [
    {
     "name": "stdout",
     "output_type": "stream",
     "text": [
      "\n",
      "      Constructors in python are defined using the __init__ function.\n",
      "      It is implemented as below.\n",
      "      class Point:\n",
      "        def __init__(self, x, y):\n",
      "            self.x = x\n",
      "            self.y = y\n",
      "        point = Point(10, 20)\n",
      "        print(point.x)\n",
      "        print(point.y) \n",
      "      \n"
     ]
    }
   ],
   "source": [
    "#Question 3\n",
    "print(\"\"\"\n",
    "      Constructors in python are defined using the __init__ function.\n",
    "      It is implemented as below.\n",
    "      class Point:\n",
    "        def __init__(self, x, y):\n",
    "            self.x = x\n",
    "            self.y = y\n",
    "        point = Point(10, 20)\n",
    "        print(point.x)\n",
    "        print(point.y) \n",
    "      \"\"\")"
   ]
  },
  {
   "cell_type": "code",
   "execution_count": 49,
   "metadata": {},
   "outputs": [
    {
     "name": "stdout",
     "output_type": "stream",
     "text": [
      "\n",
      "      The __init__ method in Python acts as the constructor for a class. \n",
      "      It's automatically called when creating a new object, attributes to be initialised with a value.\n",
      "      \n"
     ]
    }
   ],
   "source": [
    "#Question 4\n",
    "print(\"\"\"\n",
    "      The __init__ method in Python acts as the constructor for a class. \n",
    "      It's automatically called when creating a new object, attributes to be initialised with a value.\n",
    "      \"\"\")"
   ]
  },
  {
   "cell_type": "code",
   "execution_count": 50,
   "metadata": {},
   "outputs": [
    {
     "name": "stdout",
     "output_type": "stream",
     "text": [
      "\n",
      "      The __init__ method in Python acts as the constructor for a class. \n",
      "      It's automatically called when creating a new object, attributes to be initialised with a value.\n",
      "      \n"
     ]
    }
   ],
   "source": [
    "#Question 5\n",
    "print(\"\"\"\n",
    "      The __init__ method in Python acts as the constructor for a class. \n",
    "      It's automatically called when creating a new object, attributes to be initialised with a value.\n",
    "      \"\"\")"
   ]
  },
  {
   "cell_type": "code",
   "execution_count": 51,
   "metadata": {},
   "outputs": [
    {
     "name": "stdout",
     "output_type": "stream",
     "text": [
      "Joe 23\n"
     ]
    }
   ],
   "source": [
    "#Question 6\n",
    "class Person:\n",
    "    def __init__(self,name,age):\n",
    "        self.name = name\n",
    "        self.age = age\n",
    "        \n",
    "person1 = Person(\"Joe\",23)\n",
    "print(person1.name,person1.age)"
   ]
  },
  {
   "cell_type": "code",
   "execution_count": 52,
   "metadata": {},
   "outputs": [
    {
     "name": "stdout",
     "output_type": "stream",
     "text": [
      "The self parameter is important because it helps to refer to the class\n"
     ]
    }
   ],
   "source": [
    "#Question 7\n",
    "print(\"The self parameter is important because it helps to refer to the class\")"
   ]
  },
  {
   "cell_type": "code",
   "execution_count": 53,
   "metadata": {},
   "outputs": [
    {
     "name": "stdout",
     "output_type": "stream",
     "text": [
      "\n",
      "Default constructor is a special type of constructor that gets created automatically if you don't define any constructor (__init__) yourself.\n",
      "      \n"
     ]
    }
   ],
   "source": [
    "#Question 8\n",
    "print(\"\"\"\n",
    "Default constructor is a special type of constructor that gets created automatically if you don't define any constructor (__init__) yourself.\n",
    "      \"\"\")"
   ]
  },
  {
   "cell_type": "code",
   "execution_count": 54,
   "metadata": {},
   "outputs": [
    {
     "data": {
      "text/plain": [
       "8"
      ]
     },
     "execution_count": 54,
     "metadata": {},
     "output_type": "execute_result"
    }
   ],
   "source": [
    "#Question 9\n",
    "class Rectangle:\n",
    "    def __init__(self,length,width):\n",
    "        self.length = length\n",
    "        self.width = width\n",
    "    def area(self):\n",
    "        return self.width*self.length\n",
    "shape = Rectangle(2,4)\n",
    "shape.area()"
   ]
  },
  {
   "cell_type": "code",
   "execution_count": 55,
   "metadata": {},
   "outputs": [
    {
     "name": "stdout",
     "output_type": "stream",
     "text": [
      "\n",
      "      You cannot define multiple constructors in python. You can do something close to it but not exactly.\n",
      "      You can define a default constructor.\n",
      "      class Rectangle:\n",
      "            def __init__(self,length=0,width=0):\n",
      "                  self.length = length\n",
      "                  self.width = width\n",
      "      \n"
     ]
    }
   ],
   "source": [
    "#Question 10\n",
    "print(\"\"\"\n",
    "      You cannot define multiple constructors in python. You can do something close to it but not exactly.\n",
    "      You can define a default constructor.\n",
    "      class Rectangle:\n",
    "            def __init__(self,length=0,width=0):\n",
    "                  self.length = length\n",
    "                  self.width = width\n",
    "      \"\"\")"
   ]
  },
  {
   "cell_type": "code",
   "execution_count": 56,
   "metadata": {},
   "outputs": [
    {
     "name": "stdout",
     "output_type": "stream",
     "text": [
      "\n",
      "      Method Overloading occurs when there are two functions, with the same name but different number of arguments.\n",
      "      This is supported in languages like C++ but NOT in Python.\n",
      "      Though it is possible at times to achieve similar results in python. For example:\n",
      "      def add(datatype, *args):\n",
      "        if datatype == 'int':\n",
      "            answer = 0\n",
      "        if datatype == 'str':\n",
      "            answer = ''\n",
      "    \n",
      "        for x in args:\n",
      "            answer = answer + x\n",
      "            print(answer)\n",
      " \n",
      "        \n",
      "        add('int', 9, 1) #Output: 10\n",
      "        \n",
      "        add('str', 'Hello', 'World')  #Output: \"HelloWorld\"\n",
      "            \n"
     ]
    }
   ],
   "source": [
    "#Question 11\n",
    "print(\"\"\"\n",
    "      Method Overloading occurs when there are two functions, with the same name but different number of arguments.\n",
    "      This is supported in languages like C++ but NOT in Python.\n",
    "      Though it is possible at times to achieve similar results in python. For example:\n",
    "      def add(datatype, *args):\n",
    "        if datatype == 'int':\n",
    "            answer = 0\n",
    "        if datatype == 'str':\n",
    "            answer = ''\n",
    "    \n",
    "        for x in args:\n",
    "            answer = answer + x\n",
    "            print(answer)\n",
    " \n",
    "        \n",
    "        add('int', 9, 1) #Output: 10\n",
    "        \n",
    "        add('str', 'Hello', 'World')  #Output: \"HelloWorld\"\n",
    "            \"\"\")\n"
   ]
  },
  {
   "cell_type": "code",
   "execution_count": 57,
   "metadata": {},
   "outputs": [
    {
     "name": "stdout",
     "output_type": "stream",
     "text": [
      "\n",
      "     The  super() method in constructors is used when one subclass inherits from the parent class and the subclass\n",
      "     wants to use the constructor of both itself and the one of the parent class \n",
      "      \n"
     ]
    }
   ],
   "source": [
    "#Question 12\n",
    "print(\"\"\"\n",
    "     The  super() method in constructors is used when one subclass inherits from the parent class and the subclass\n",
    "     wants to use the constructor of both itself and the one of the parent class \n",
    "      \"\"\")\n"
   ]
  },
  {
   "cell_type": "code",
   "execution_count": 58,
   "metadata": {},
   "outputs": [
    {
     "name": "stdout",
     "output_type": "stream",
     "text": [
      "\n",
      "Title: Mike Roth\n",
      "Author: Quantum Mechanics for Babies\n",
      "Published Year: 2002\n",
      "              \n"
     ]
    }
   ],
   "source": [
    "#Question 13\n",
    "class Book:\n",
    "    def __init__(self, title, author, published_year):\n",
    "        self.title = title\n",
    "        self.author = author\n",
    "        self.published_year = published_year\n",
    "    def display(self):\n",
    "        print(f\"\"\"\n",
    "Title: {self.title}\n",
    "Author: {self.author}\n",
    "Published Year: {self.published_year}\n",
    "              \"\"\")\n",
    "LeLivre = Book(\"Mike Roth\",\"Quantum Mechanics for Babies\",\"2002\")\n",
    "LeLivre.display()"
   ]
  },
  {
   "cell_type": "code",
   "execution_count": 59,
   "metadata": {},
   "outputs": [
    {
     "name": "stdout",
     "output_type": "stream",
     "text": [
      "\n",
      "Constructors are used to initialise attributes in a class and are called automatically. They have no return type. Initialised always using the __init__() function.\n",
      "Methods on the other hand are not automatically called and have return types depending on their functionaluty. They can be named anyhow.\n",
      "     \n",
      "      \n"
     ]
    }
   ],
   "source": [
    "#Question 14\n",
    "print(\"\"\"\n",
    "Constructors are used to initialise attributes in a class and are called automatically. They have no return type. Initialised always using the __init__() function.\n",
    "Methods on the other hand are not automatically called and have return types depending on their functionaluty. They can be named anyhow.\n",
    "     \n",
    "      \"\"\")"
   ]
  },
  {
   "cell_type": "code",
   "execution_count": 60,
   "metadata": {},
   "outputs": [
    {
     "name": "stdout",
     "output_type": "stream",
     "text": [
      "\n",
      "The self parameter is used to access the methods and attributes in a class.    \n",
      "      \n"
     ]
    }
   ],
   "source": [
    "#Question 15\n",
    "print(\"\"\"\n",
    "The self parameter is used to access the methods and attributes in a class.    \n",
    "      \"\"\")"
   ]
  },
  {
   "cell_type": "code",
   "execution_count": 61,
   "metadata": {},
   "outputs": [
    {
     "name": "stdout",
     "output_type": "stream",
     "text": [
      "We can avoid prevent a class from having multiple instances by using __new__() method\n",
      "We can use this code also:\n",
      "class Singleton:\n",
      "    _instance = None\n",
      "\n",
      "    def __new__(cls, *args, **kwargs):\n",
      "        if not cls._instance:\n",
      "            cls._instance = super().__new__(cls, *args, **kwargs)\n",
      "        return cls._instance\n",
      "\n",
      "    def __init__(self, data):\n",
      "        # This will be called only once, when the first instance is created\n",
      "        self.data = data\n",
      "\n",
      "\n",
      "s1 = Singleton(\"Data for Singleton 1\")\n",
      "s2 = Singleton(\"Data for Singleton 2\")\n",
      "\n",
      "print(s1.data)  # Output: Data for Singleton 1\n",
      "print(s2.data)  # Output: Data for Singleton 1 (same as singleton1)\n",
      "    \n"
     ]
    }
   ],
   "source": [
    "#Question 16\n",
    "print(\"\"\"We can avoid prevent a class from having multiple instances by using __new__() method\n",
    "We can use this code also:\n",
    "class Singleton:\n",
    "    _instance = None\n",
    "\n",
    "    def __new__(cls, *args, **kwargs):\n",
    "        if not cls._instance:\n",
    "            cls._instance = super().__new__(cls, *args, **kwargs)\n",
    "        return cls._instance\n",
    "\n",
    "    def __init__(self, data):\n",
    "        # This will be called only once, when the first instance is created\n",
    "        self.data = data\n",
    "\n",
    "\n",
    "s1 = Singleton(\"Data for Singleton 1\")\n",
    "s2 = Singleton(\"Data for Singleton 2\")\n",
    "\n",
    "print(s1.data)  # Output: Data for Singleton 1\n",
    "print(s2.data)  # Output: Data for Singleton 1 (same as singleton1)\n",
    "    \"\"\")"
   ]
  },
  {
   "cell_type": "code",
   "execution_count": 62,
   "metadata": {},
   "outputs": [
    {
     "data": {
      "text/plain": [
       "['Math', 'Physics', 'Biology']"
      ]
     },
     "execution_count": 62,
     "metadata": {},
     "output_type": "execute_result"
    }
   ],
   "source": [
    "#Question 17\n",
    "class Student:\n",
    "    def __init__(self, subjects):\n",
    "        self.subjects = subjects\n",
    "subjects_list = [\"Math\", \"Physics\", \"Biology\"]\n",
    "student1 = Student(subjects_list)\n",
    "student1.subjects"
   ]
  },
  {
   "cell_type": "code",
   "execution_count": 63,
   "metadata": {},
   "outputs": [
    {
     "name": "stdout",
     "output_type": "stream",
     "text": [
      "\n",
      "__del__ is a destructor method which is called as soon as all references of the object are deleted.\n",
      "      \n"
     ]
    }
   ],
   "source": [
    "#Question 18\n",
    "print(\"\"\"\n",
    "__del__ is a destructor method which is called as soon as all references of the object are deleted.\n",
    "      \"\"\")"
   ]
  },
  {
   "cell_type": "code",
   "execution_count": 64,
   "metadata": {},
   "outputs": [
    {
     "name": "stdout",
     "output_type": "stream",
     "text": [
      "\n",
      "Constructor chaining is calling another constructor inside a constructor using the super() method.      \n",
      "class Parent:\n",
      "    def __init__(self, parent_attribute):\n",
      "        self.parent_attribute = parent_attribute\n",
      "        print(\"Parent constructor called\")\n",
      "\n",
      "class Child(Parent):\n",
      "    def __init__(self, parent_attribute, child_attribute):\n",
      "        super().__init__(parent_attribute)  # Call parent class constructor\n",
      "        self.child_attribute = child_attribute\n",
      "        print(\"Child constructor called\")\n",
      "      \n"
     ]
    }
   ],
   "source": [
    "#Question 19\n",
    "print(\"\"\"\n",
    "Constructor chaining is calling another constructor inside a constructor using the super() method.      \n",
    "class Parent:\n",
    "    def __init__(self, parent_attribute):\n",
    "        self.parent_attribute = parent_attribute\n",
    "        print(\"Parent constructor called\")\n",
    "\n",
    "class Child(Parent):\n",
    "    def __init__(self, parent_attribute, child_attribute):\n",
    "        super().__init__(parent_attribute)  # Call parent class constructor\n",
    "        self.child_attribute = child_attribute\n",
    "        print(\"Child constructor called\")\n",
    "      \"\"\")"
   ]
  },
  {
   "cell_type": "code",
   "execution_count": 65,
   "metadata": {},
   "outputs": [
    {
     "name": "stdout",
     "output_type": "stream",
     "text": [
      "Honda\n",
      "Accord\n"
     ]
    }
   ],
   "source": [
    "#Question 20\n",
    "class Car:\n",
    "    def __init__(self, model, make):\n",
    "        self.model = model\n",
    "        self.make = make\n",
    "    def display(self):\n",
    "        print(self.model)\n",
    "        print(self.make)\n",
    "car = Car(\"Honda\", \"Accord\")\n",
    "car.display()"
   ]
  },
  {
   "cell_type": "markdown",
   "metadata": {},
   "source": [
    "<h3>Inheritance</h3>"
   ]
  },
  {
   "cell_type": "code",
   "execution_count": 66,
   "metadata": {},
   "outputs": [
    {
     "name": "stdout",
     "output_type": "stream",
     "text": [
      "\n",
      "Inheritance in python allows you to create new classes and access methods and attributes from another class called parent class without redefining them.\n",
      "This promotes code reusability and readability.       \n",
      "      \n"
     ]
    }
   ],
   "source": [
    "#Question 1\n",
    "print(\"\"\"\n",
    "Inheritance in python allows you to create new classes and access methods and attributes from another class called parent class without redefining them.\n",
    "This promotes code reusability and readability.       \n",
    "      \"\"\")"
   ]
  },
  {
   "cell_type": "code",
   "execution_count": 67,
   "metadata": {},
   "outputs": [
    {
     "name": "stdout",
     "output_type": "stream",
     "text": [
      "\n",
      "Single inheritance occurs when a subclass inherits from only one parent class. Example:   \n",
      "class Mammal:\n",
      "    def eats(self):\n",
      "        print(\"I eat\")\n",
      "class Human(Mammal):\n",
      "    def speak(self):\n",
      "        print(\"I speak\")\n",
      "James = Human()\n",
      "James.eats() # Output: \"I eat\"\n",
      "James.speak() # Output: \"I speak\"\n",
      "\n",
      "While Multiple inheritance occurs when a subclass inherits from more than one parent class. Example: \n",
      "class Flyable:\n",
      "    def fly(self):\n",
      "        print(\"Can fly\")\n",
      "\n",
      "class Swimmable:\n",
      "    def swim(self):\n",
      "        print(\"Can swim\")\n",
      "\n",
      "class Duck(Flyable, Swimmable):  \n",
      "    def speak(self):\n",
      "        print(\"Quack!\")\n",
      "\n",
      "# Example usage\n",
      "duck = Duck()\n",
      "duck.speak() \n",
      "duck.fly() \n",
      "duck.swim()   \n",
      "  \n",
      "\n"
     ]
    }
   ],
   "source": [
    "#Question 2\n",
    "print(\"\"\"\n",
    "Single inheritance occurs when a subclass inherits from only one parent class. Example:   \n",
    "class Mammal:\n",
    "    def eats(self):\n",
    "        print(\"I eat\")\n",
    "class Human(Mammal):\n",
    "    def speak(self):\n",
    "        print(\"I speak\")\n",
    "James = Human()\n",
    "James.eats() # Output: \"I eat\"\n",
    "James.speak() # Output: \"I speak\"\n",
    "\n",
    "While Multiple inheritance occurs when a subclass inherits from more than one parent class. Example: \n",
    "class Flyable:\n",
    "    def fly(self):\n",
    "        print(\"Can fly\")\n",
    "\n",
    "class Swimmable:\n",
    "    def swim(self):\n",
    "        print(\"Can swim\")\n",
    "\n",
    "class Duck(Flyable, Swimmable):  \n",
    "    def speak(self):\n",
    "        print(\"Quack!\")\n",
    "\n",
    "# Example usage\n",
    "duck = Duck()\n",
    "duck.speak() \n",
    "duck.fly() \n",
    "duck.swim()   \n",
    "  \n",
    "\"\"\")"
   ]
  },
  {
   "cell_type": "code",
   "execution_count": 68,
   "metadata": {},
   "outputs": [
    {
     "name": "stdout",
     "output_type": "stream",
     "text": [
      "Red\n",
      "Toyota\n",
      "75\n"
     ]
    }
   ],
   "source": [
    "#Question 3\n",
    "class Vehicle:\n",
    "    def __init__(self,speed,color):\n",
    "        self.speed = speed\n",
    "        self.color = color\n",
    "class Car(Vehicle):\n",
    "    def __init__(self,color,speed,brand):\n",
    "        super().__init__(speed,color)\n",
    "        self.brand = brand\n",
    "myCar = Car(\"Red\",75,\"Toyota\")     \n",
    "print(myCar.color)\n",
    "print(myCar.brand)\n",
    "print(myCar.speed)\n",
    "        "
   ]
  },
  {
   "cell_type": "code",
   "execution_count": 69,
   "metadata": {},
   "outputs": [
    {
     "name": "stdout",
     "output_type": "stream",
     "text": [
      "\n",
      "Method overriding in python allows a subclass to implement a specific implemetation of a method that is already in the parent class, \n",
      "which replaces the parent class implementation with its own.\n",
      "EXAMPLE:\n",
      "class Car:\n",
      "    def move(self):\n",
      "        print(\"I can drive\")\n",
      "class Motorcycle:\n",
      "    def move(self):\n",
      "        print(\"I can drive too\")\n",
      "myVehicle = Motorcycle()\n",
      "myVehicle.move() #Output: \"I can drive too\"\n",
      "      \n"
     ]
    }
   ],
   "source": [
    "#Question 4\n",
    "print(\"\"\"\n",
    "Method overriding in python allows a subclass to implement a specific implemetation of a method that is already in the parent class, \n",
    "which replaces the parent class implementation with its own.\n",
    "EXAMPLE:\n",
    "class Car:\n",
    "    def move(self):\n",
    "        print(\"I can drive\")\n",
    "class Motorcycle:\n",
    "    def move(self):\n",
    "        print(\"I can drive too\")\n",
    "myVehicle = Motorcycle()\n",
    "myVehicle.move() #Output: \"I can drive too\"\n",
    "      \"\"\")"
   ]
  },
  {
   "cell_type": "code",
   "execution_count": 70,
   "metadata": {},
   "outputs": [
    {
     "name": "stdout",
     "output_type": "stream",
     "text": [
      "\n",
      "To access the methods and attributes of a parent class from a child class, we can use the super() method.\n",
      "Example:\n",
      "class Test1:\n",
      "      def __init__(self,name):\n",
      "            self.name = name\n",
      "            print(self.name)\n",
      "            print(\"Test1 just got called\")\n",
      "class Test2(Test1):\n",
      "      def __init__(self,age,name):\n",
      "            self.age = age\n",
      "            print(self.age)\n",
      "            print(\"Test2 just got called\")\n",
      "            super().__init__(name)\n",
      "            \n",
      "Mytest = Test2(12,\"James\")\n",
      "\n",
      "Output:\n",
      "12\n",
      "Test2 just got called\n",
      "James\n",
      "Test1 just got called\n",
      "      \n"
     ]
    }
   ],
   "source": [
    "#Question 5\n",
    "print(\"\"\"\n",
    "To access the methods and attributes of a parent class from a child class, we can use the super() method.\n",
    "Example:\n",
    "class Test1:\n",
    "      def __init__(self,name):\n",
    "            self.name = name\n",
    "            print(self.name)\n",
    "            print(\"Test1 just got called\")\n",
    "class Test2(Test1):\n",
    "      def __init__(self,age,name):\n",
    "            self.age = age\n",
    "            print(self.age)\n",
    "            print(\"Test2 just got called\")\n",
    "            super().__init__(name)\n",
    "            \n",
    "Mytest = Test2(12,\"James\")\n",
    "\n",
    "Output:\n",
    "12\n",
    "Test2 just got called\n",
    "James\n",
    "Test1 just got called\n",
    "      \"\"\")"
   ]
  },
  {
   "cell_type": "code",
   "execution_count": 71,
   "metadata": {},
   "outputs": [
    {
     "name": "stdout",
     "output_type": "stream",
     "text": [
      "\n",
      "The super() function in Python allows a child class to access methods and attributes of its parent class, facilitating code reusability.\n",
      "Example:\n",
      "class Parent:\n",
      "    def __init__(self):\n",
      "        print(\"Parent class\")\n",
      "\n",
      "class Child(Parent):\n",
      "    def __init__(self):\n",
      "        super().__init__()\n",
      "        print(\"Child class\")\n",
      "child = Child()\n",
      "      \n"
     ]
    }
   ],
   "source": [
    "#Question 6\n",
    "print(\"\"\"\n",
    "The super() function in Python allows a child class to access methods and attributes of its parent class, facilitating code reusability.\n",
    "Example:\n",
    "class Parent:\n",
    "    def __init__(self):\n",
    "        print(\"Parent class\")\n",
    "\n",
    "class Child(Parent):\n",
    "    def __init__(self):\n",
    "        super().__init__()\n",
    "        print(\"Child class\")\n",
    "child = Child()\n",
    "      \"\"\")"
   ]
  },
  {
   "cell_type": "code",
   "execution_count": 72,
   "metadata": {},
   "outputs": [
    {
     "name": "stdout",
     "output_type": "stream",
     "text": [
      "I can speak\n",
      "I can Bark\n",
      "I can Meow\n"
     ]
    }
   ],
   "source": [
    "#Question 7\n",
    "class Animal:\n",
    "    def speak(self):\n",
    "        print(\"I can speak\")\n",
    "        \n",
    "class Dog(Animal):\n",
    "    def speak(self):\n",
    "        print(\"I can Bark\")\n",
    "        \n",
    "class Cat(Animal):\n",
    "    def speak(self):\n",
    "        print(\"I can Meow\")\n",
    "        \n",
    "animal = Animal()\n",
    "dog = Dog()\n",
    "cat = Cat()\n",
    "\n",
    "animal.speak()\n",
    "dog.speak()\n",
    "cat.speak()\n",
    "\n",
    "        \n",
    "        "
   ]
  },
  {
   "cell_type": "code",
   "execution_count": 73,
   "metadata": {},
   "outputs": [
    {
     "name": "stdout",
     "output_type": "stream",
     "text": [
      "\n",
      "The isinstance() function checks if an object is of that particular class. \n",
      "This function, in inheritance helps to check if an object is an instance of that class or any subclass.    \n",
      "      \n"
     ]
    }
   ],
   "source": [
    "#Question 8\n",
    "print(\"\"\"\n",
    "The isinstance() function checks if an object is of that particular class. \n",
    "This function, in inheritance helps to check if an object is an instance of that class or any subclass.    \n",
    "      \"\"\")"
   ]
  },
  {
   "cell_type": "code",
   "execution_count": 74,
   "metadata": {},
   "outputs": [
    {
     "name": "stdout",
     "output_type": "stream",
     "text": [
      "\n",
      "The issubclass() function checks if an object belongs to a subclass. \n",
      "Example:\n",
      "class obj1:\n",
      "  age = 36\n",
      "\n",
      "class obj1(x):\n",
      "  name = \"Kate\"\n",
      "  age = x\n",
      "\n",
      "x = issubclass(obj1, obj) # Output: True\n",
      "      \n"
     ]
    }
   ],
   "source": [
    "#Question 9\n",
    "print(\"\"\"\n",
    "The issubclass() function checks if an object belongs to a subclass. \n",
    "Example:\n",
    "class obj1:\n",
    "  age = 36\n",
    "\n",
    "class obj1(x):\n",
    "  name = \"Kate\"\n",
    "  age = x\n",
    "\n",
    "x = issubclass(obj1, obj) # Output: True\n",
    "      \"\"\")"
   ]
  },
  {
   "cell_type": "code",
   "execution_count": 75,
   "metadata": {},
   "outputs": [
    {
     "name": "stdout",
     "output_type": "stream",
     "text": [
      "\n",
      "In Python, when you create a subclass that doesn't have a constructor, it automatically inherits the constructor of its parent class.    \n",
      "If a subclass defines its own constructor, it can call the constructor of the parent class using super().__init__() method.  \n",
      "      \n"
     ]
    }
   ],
   "source": [
    "#Question 10\n",
    "print(\"\"\"\n",
    "In Python, when you create a subclass that doesn't have a constructor, it automatically inherits the constructor of its parent class.    \n",
    "If a subclass defines its own constructor, it can call the constructor of the parent class using super().__init__() method.  \n",
    "      \"\"\")"
   ]
  },
  {
   "cell_type": "code",
   "execution_count": 76,
   "metadata": {},
   "outputs": [
    {
     "name": "stdout",
     "output_type": "stream",
     "text": [
      "153.86\n"
     ]
    },
    {
     "data": {
      "text/plain": [
       "14"
      ]
     },
     "execution_count": 76,
     "metadata": {},
     "output_type": "execute_result"
    }
   ],
   "source": [
    "#Question 11\n",
    "class Shape:\n",
    "    def area(self):\n",
    "        pass\n",
    "class Circle(Shape):\n",
    "    def __init__(self,radius):\n",
    "        self.pi = 3.14\n",
    "        self.radius = radius\n",
    "    def area(self):\n",
    "        print(self.pi*self.radius*self.radius)\n",
    "class Rectangle(Shape):\n",
    "    def __init__(self, width, length):\n",
    "        self.width = width\n",
    "        self.length = length\n",
    "    def area(self):\n",
    "        return self.width*self.length\n",
    "circle = Circle(7)\n",
    "circle.area()\n",
    "rect = Rectangle(2,7)\n",
    "rect.area()"
   ]
  },
  {
   "cell_type": "code",
   "execution_count": 77,
   "metadata": {},
   "outputs": [
    {
     "name": "stdout",
     "output_type": "stream",
     "text": [
      "\n",
      "Abstract Base Classes (ABCs) in Python provide a way to define abstract interfaces for classes. \n",
      "They serve as a blueprint for other classes and can contain one or more abstract methods that must be implemented by the subclasses.  \n",
      "\n",
      "from abc import ABC, abstractmethod  \n",
      "class Animal(ABC):\n",
      "    @abstractmethod\n",
      "    def speak(self):\n",
      "        pass\n",
      "class Dog(Animal):\n",
      "    def speak(self):\n",
      "        print(\"Woof!\")\n",
      "class Cat(Animal):\n",
      "    def speak(self):\n",
      "        print(\"Meow!\")\n",
      "dog = Dog()\n",
      "cat = Cat()\n",
      "print(dog.speak())  # Output: Woof!\n",
      "print(cat.speak())  # Output: Meow!\n",
      "      \n"
     ]
    }
   ],
   "source": [
    "#Question 12\n",
    "print(\"\"\"\n",
    "Abstract Base Classes (ABCs) in Python provide a way to define abstract interfaces for classes. \n",
    "They serve as a blueprint for other classes and can contain one or more abstract methods that must be implemented by the subclasses.  \n",
    "\n",
    "from abc import ABC, abstractmethod  \n",
    "class Animal(ABC):\n",
    "    @abstractmethod\n",
    "    def speak(self):\n",
    "        pass\n",
    "class Dog(Animal):\n",
    "    def speak(self):\n",
    "        print(\"Woof!\")\n",
    "class Cat(Animal):\n",
    "    def speak(self):\n",
    "        print(\"Meow!\")\n",
    "dog = Dog()\n",
    "cat = Cat()\n",
    "print(dog.speak())  # Output: Woof!\n",
    "print(cat.speak())  # Output: Meow!\n",
    "      \"\"\")"
   ]
  },
  {
   "cell_type": "code",
   "execution_count": 78,
   "metadata": {},
   "outputs": [
    {
     "name": "stdout",
     "output_type": "stream",
     "text": [
      "\n",
      "One common way to prevent a sub class from accessing and modifying the attribute or method is to make it private by using the __\n",
      "\n"
     ]
    }
   ],
   "source": [
    "#Question 13\n",
    "print(\"\"\"\n",
    "One common way to prevent a sub class from accessing and modifying the attribute or method is to make it private by using the __\n",
    "\"\"\")"
   ]
  },
  {
   "cell_type": "code",
   "execution_count": 79,
   "metadata": {},
   "outputs": [
    {
     "name": "stdout",
     "output_type": "stream",
     "text": [
      "\n",
      "Name: Blackburn\n",
      "Salary: 100000\n",
      "Department: HR\n",
      "              \n"
     ]
    }
   ],
   "source": [
    "#Question 14\n",
    "class Employee:\n",
    "    def __init__(self,name,salary):\n",
    "        self.name = name\n",
    "        self.salary = salary\n",
    "class Manager(Employee):\n",
    "    def __init__(self, name, salary, department):\n",
    "        super().__init__(name,salary)\n",
    "        self.department = department\n",
    "    def display(self):\n",
    "        print(f\"\"\"\n",
    "Name: {self.name}\n",
    "Salary: {self.salary}\n",
    "Department: {self.department}\n",
    "              \"\"\")\n",
    "emp1 = Manager(\"Blackburn\",100000,\"HR\")\n",
    "emp1.display()"
   ]
  },
  {
   "cell_type": "code",
   "execution_count": 80,
   "metadata": {},
   "outputs": [
    {
     "name": "stdout",
     "output_type": "stream",
     "text": [
      "\n",
      "Method Overloading occurs when there are functions in a class with the same name but different name of parameters and this cannot be directly \n",
      "implemented in python. It is possible indirecttly using default parameters value and variable length argument list.\n",
      "While Method overriding occurs when a subclass provides a specific implementation of a method that is already defined in its superclass.     \n",
      "      \n",
      "      \n",
      "      \n"
     ]
    }
   ],
   "source": [
    "#Question 15\n",
    "print(\"\"\"\n",
    "Method Overloading occurs when there are functions in a class with the same name but different name of parameters and this cannot be directly \n",
    "implemented in python. It is possible indirecttly using default parameters value and variable length argument list.\n",
    "While Method overriding occurs when a subclass provides a specific implementation of a method that is already defined in its superclass.     \n",
    "      \n",
    "      \n",
    "      \"\"\")"
   ]
  },
  {
   "cell_type": "code",
   "execution_count": 81,
   "metadata": {},
   "outputs": [
    {
     "name": "stdout",
     "output_type": "stream",
     "text": [
      "\n",
      "The __init__() method in Python is used to initialize objects. In inheritance, it's commonly used in the parent class to set up initial attributes shared by all subclasses.\n",
      "For child classes, if you want them to inherit the initialization behavior of the parent class, you don't need to define __init__() in the child class. Python automatically calls the parent class __init__() for you when you create an instance of the child class.          \n",
      "      \n"
     ]
    }
   ],
   "source": [
    "#Question 16\n",
    "print(\"\"\"\n",
    "The __init__() method in Python is used to initialize objects. In inheritance, it's commonly used in the parent class to set up initial attributes shared by all subclasses.\n",
    "For child classes, if you want them to inherit the initialization behavior of the parent class, you don't need to define __init__() in the child class. Python automatically calls the parent class __init__() for you when you create an instance of the child class.          \n",
    "      \"\"\")"
   ]
  },
  {
   "cell_type": "code",
   "execution_count": 82,
   "metadata": {},
   "outputs": [
    {
     "name": "stdout",
     "output_type": "stream",
     "text": [
      "Fly\n",
      "Eagle flies\n",
      "sparrow flies\n"
     ]
    }
   ],
   "source": [
    "#Question 17\n",
    "class Bird:\n",
    "    def fly(self):\n",
    "        print(\"Fly\")\n",
    "class Eagle(Bird):\n",
    "    def fly(self):\n",
    "        print(\"Eagle flies\")\n",
    "class Sparrow(Bird):\n",
    "    def fly(self):\n",
    "        print(\"sparrow flies\")   \n",
    "bird = Bird()\n",
    "eagle = Eagle()\n",
    "sparrow = Sparrow()    \n",
    "bird.fly()\n",
    "eagle.fly()\n",
    "sparrow.fly()\n"
   ]
  },
  {
   "cell_type": "code",
   "execution_count": 83,
   "metadata": {},
   "outputs": [
    {
     "name": "stdout",
     "output_type": "stream",
     "text": [
      "\n",
      "    A\n",
      "   / \\\n",
      "  B   C\n",
      "   \\ /\n",
      "    D\n",
      "A is a class which is inherited by BCD\n",
      "Diamond problem occurs when, for example if there is a function fun() in A which is overidded in B and C. Now what will D inherit?\n",
      "The one from A or from B or C. This leads to ambiguity.\n",
      "Python solves this automatically using the Method Resolution Order(MRO) mechanism known as C3 Linearisation.\n",
      "      \n"
     ]
    }
   ],
   "source": [
    "#Question 18\n",
    "print(\"\"\"\n",
    "    A\n",
    "   / \\\\\n",
    "  B   C\n",
    "   \\\\ /\n",
    "    D\n",
    "A is a class which is inherited by BCD\n",
    "Diamond problem occurs when, for example if there is a function fun() in A which is overidded in B and C. Now what will D inherit?\n",
    "The one from A or from B or C. This leads to ambiguity.\n",
    "Python solves this automatically using the Method Resolution Order(MRO) mechanism known as C3 Linearisation.\n",
    "      \"\"\")"
   ]
  },
  {
   "cell_type": "code",
   "execution_count": 84,
   "metadata": {},
   "outputs": [
    {
     "name": "stdout",
     "output_type": "stream",
     "text": [
      "\n",
      " \"is-a\" relationship means one thing(object) is a type of another\n",
      "Example:\n",
      "class Animal:\n",
      "    def speak(self):\n",
      "        pass\n",
      "\n",
      "class Dog(Animal):\n",
      "    def speak(self):\n",
      "        return \"Woof!\"\n",
      "        \n",
      " \"has-a\" relationship means one thing(object) has another thing as part of it.   \n",
      "Example:\n",
      "class Engine:\n",
      "    def start(self):\n",
      "        print(\"Engine started!\")\n",
      "\n",
      "class Car:\n",
      "    def __init__(self):\n",
      "        self.engine = Engine()\n",
      "\n",
      "    def start_engine(self):\n",
      "        print(self.engine.start())\n",
      " \n",
      "\n"
     ]
    }
   ],
   "source": [
    "#Question 19\n",
    "print(\"\"\"\n",
    " \"is-a\" relationship means one thing(object) is a type of another\n",
    "Example:\n",
    "class Animal:\n",
    "    def speak(self):\n",
    "        pass\n",
    "\n",
    "class Dog(Animal):\n",
    "    def speak(self):\n",
    "        return \"Woof!\"\n",
    "        \n",
    " \"has-a\" relationship means one thing(object) has another thing as part of it.   \n",
    "Example:\n",
    "class Engine:\n",
    "    def start(self):\n",
    "        print(\"Engine started!\")\n",
    "\n",
    "class Car:\n",
    "    def __init__(self):\n",
    "        self.engine = Engine()\n",
    "\n",
    "    def start_engine(self):\n",
    "        print(self.engine.start())\n",
    " \n",
    "\"\"\")"
   ]
  },
  {
   "cell_type": "code",
   "execution_count": 85,
   "metadata": {},
   "outputs": [
    {
     "name": "stdout",
     "output_type": "stream",
     "text": [
      "Alex Mason is a member of Physics department\n",
      "Frank Woods is a member of Biology\n"
     ]
    }
   ],
   "source": [
    "#Question 20\n",
    "class Person:\n",
    "    def __init__(self,name,age,location):\n",
    "        self.name = name\n",
    "        self.age = age\n",
    "        self.location = location\n",
    "class Professor(Person):\n",
    "    def __init__(self, name,age,location,department,prof_id):\n",
    "        super().__init__(name,age,location)\n",
    "        self.department = department\n",
    "        self.prof_id = prof_id\n",
    "    def is_teaching(self):\n",
    "        print(f\"{self.name} is a member of {self.department} department\")\n",
    "        \n",
    "class Student(Person):\n",
    "    def __init__(self, name,age,location,course,stud_id):\n",
    "        super().__init__(name,age,location)\n",
    "        self.course = course\n",
    "        self.stud_id = stud_id\n",
    "    def is_studying(self):\n",
    "        print(f\"{self.name} is a member of {self.course}\")\n",
    "\n",
    "prof1 = Professor(\"Alex Mason\",34,\"Fairbanks\",\"Physics\",\"2344\")\n",
    "prof1.is_teaching()\n",
    "stud1 = Student(\"Frank Woods\",19,\"Philadelphia\",\"Biology\",\"098765\")\n",
    "stud1.is_studying()"
   ]
  },
  {
   "cell_type": "markdown",
   "metadata": {},
   "source": [
    "<h3>Polymorphism</h3>"
   ]
  },
  {
   "cell_type": "code",
   "execution_count": 1,
   "metadata": {},
   "outputs": [],
   "source": [
    "#Question 1\n",
    "print(\"Polymorphism is the ability of objects to exhibit different behaviors under the same method name. \")"
   ]
  },
  {
   "cell_type": "code",
   "execution_count": 3,
   "metadata": {},
   "outputs": [
    {
     "name": "stdout",
     "output_type": "stream",
     "text": [
      "\n",
      "In compile time polymorphism, there is method overloading and this occurs in compile time. But since python is an interpreted language, compile\n",
      "time polymorphism is not possible in python. Python can achieve similar functionality by using multiple length variables and default arguments.\n",
      "\n",
      "In run time polymorphism, there is method overriding and this occurs in run time. This is what commonly occurs in python.\n",
      "This is achieved when a subclass provides a specific implementation of a method that is already defined in its parent class.      \n",
      "      \n"
     ]
    }
   ],
   "source": [
    "#Question 2\n",
    "print(\"\"\"\n",
    "In compile time polymorphism, there is method overloading and this occurs in compile time. But since python is an interpreted language, compile\n",
    "time polymorphism is not possible in python. Python can achieve similar functionality by using multiple length variables and default arguments.\n",
    "\n",
    "In run time polymorphism, there is method overriding and this occurs in run time. This is what commonly occurs in python.\n",
    "This is achieved when a subclass provides a specific implementation of a method that is already defined in its parent class.      \n",
    "      \"\"\")"
   ]
  },
  {
   "cell_type": "code",
   "execution_count": 7,
   "metadata": {},
   "outputs": [
    {
     "name": "stdout",
     "output_type": "stream",
     "text": [
      "The area of the Circle is 153.86\n",
      "The area of the Square is 16\n",
      "The area of the Triangle is 15.0\n"
     ]
    }
   ],
   "source": [
    "#Question 3\n",
    "class Shape:\n",
    "    def calculate_area(self):\n",
    "        pass  \n",
    "class Circle(Shape):\n",
    "    def __init__(self, radius):\n",
    "        self.radius = radius\n",
    "    \n",
    "    def calculate_area(self):\n",
    "        return 3.14 * (self.radius ** 2)\n",
    "class Square(Shape):\n",
    "    def __init__(self, side):\n",
    "        self.side = side\n",
    "    \n",
    "    def calculate_area(self):\n",
    "        return self.side * self.side\n",
    "class Triangle(Shape):\n",
    "    def __init__(self, base, height):\n",
    "        self.base = base\n",
    "        self.height = height\n",
    "    \n",
    "    def calculate_area(self):\n",
    "        return 0.5 * self.base * self.height\n",
    "\n",
    "shapes = [\n",
    "    Circle(7),\n",
    "    Square(4),\n",
    "    Triangle(10, 3)\n",
    "]\n",
    "\n",
    "for shape in shapes:\n",
    "    print(f\"The area of the {shape.__class__.__name__} is {shape.calculate_area()}\")\n"
   ]
  },
  {
   "cell_type": "code",
   "execution_count": 10,
   "metadata": {},
   "outputs": [
    {
     "name": "stdout",
     "output_type": "stream",
     "text": [
      "\n",
      "Method overriding is when a subclass provides a specific implementation of a method that is already defined in its superclass. \n",
      "Example\n",
      "class Test:\n",
      "      def say():\n",
      "            print(\"Python is cool\")\n",
      "class Test1(Test):\n",
      "      def say():\n",
      "            print(\"Javascript is cool\")\n",
      "myTest = Test1()\n",
      "myTest.say() #Output: \"Javascript is cool\n",
      "      \n"
     ]
    }
   ],
   "source": [
    "#Question 4\n",
    "print(\"\"\"\n",
    "Method overriding is when a subclass provides a specific implementation of a method that is already defined in its superclass. \n",
    "Example\n",
    "class Test:\n",
    "      def say():\n",
    "            print(\"Python is cool\")\n",
    "class Test1(Test):\n",
    "      def say():\n",
    "            print(\"Javascript is cool\")\n",
    "myTest = Test1()\n",
    "myTest.say() #Output: \"Javascript is cool\n",
    "      \"\"\")"
   ]
  },
  {
   "cell_type": "code",
   "execution_count": 14,
   "metadata": {},
   "outputs": [
    {
     "name": "stdout",
     "output_type": "stream",
     "text": [
      "\n",
      "Polymorphism is the ability of objects to exhibit different behaviors under the same method name while method overloading is the use of \n",
      "methods with the same name but different parameter types and this cannot be achieved in python but similar functionality can be achieved.  \n",
      "   \n",
      "Example of Method Overloading\n",
      "\n",
      "class MathOperations:\n",
      "    def add(self, a, b=0, c=0):\n",
      "        return a + b + c\n",
      "math_ops = MathOperations()\n",
      "math_ops.add(5))        # Output: 5\n",
      "math_ops.add(5, 15))    # Output: 20\n",
      "math_ops.add(5, 5, 15) # Output: 25\n",
      "\n",
      "Example of Method polymorphism\n",
      "class Human:\n",
      "    def speak(self):\n",
      "        pass\n",
      "\n",
      "class Person1(Human):\n",
      "    def speak(self):\n",
      "        print(\"Hello\")\n",
      "\n",
      "class Person2(Human):\n",
      "    def speak(self):\n",
      "        print(\"Hi\")\n",
      "\n",
      "p1 = Person1()\n",
      "dog.speak() #Output: \"Hello\"\n",
      "p2 = Person2()\n",
      "p2.speak() #Output: \"Hi\"\n",
      "      \n"
     ]
    }
   ],
   "source": [
    "#Question 5\n",
    "print(\"\"\"\n",
    "Polymorphism is the ability of objects to exhibit different behaviors under the same method name while method overloading is the use of \n",
    "methods with the same name but different parameter types and this cannot be achieved in python but similar functionality can be achieved.  \n",
    "   \n",
    "Example of Method Overloading\n",
    "\n",
    "class MathOperations:\n",
    "    def add(self, a, b=0, c=0):\n",
    "        return a + b + c\n",
    "math_ops = MathOperations()\n",
    "math_ops.add(5))        # Output: 5\n",
    "math_ops.add(5, 15))    # Output: 20\n",
    "math_ops.add(5, 5, 15) # Output: 25\n",
    "\n",
    "Example of Method polymorphism\n",
    "class Human:\n",
    "    def speak(self):\n",
    "        pass\n",
    "\n",
    "class Person1(Human):\n",
    "    def speak(self):\n",
    "        print(\"Hello\")\n",
    "\n",
    "class Person2(Human):\n",
    "    def speak(self):\n",
    "        print(\"Hi\")\n",
    "\n",
    "p1 = Person1()\n",
    "dog.speak() #Output: \"Hello\"\n",
    "p2 = Person2()\n",
    "p2.speak() #Output: \"Hi\"\n",
    "      \"\"\")"
   ]
  },
  {
   "cell_type": "code",
   "execution_count": 17,
   "metadata": {},
   "outputs": [
    {
     "name": "stdout",
     "output_type": "stream",
     "text": [
      "Woof!\n",
      "Meow!\n",
      "Chirps!\n"
     ]
    }
   ],
   "source": [
    "#Question 6\n",
    "class Animal:\n",
    "    def speak(self):\n",
    "        pass\n",
    "class Dog(Animal):\n",
    "    def speak(self):\n",
    "        print(\"Woof!\")\n",
    "\n",
    "class Cat(Animal):\n",
    "    def speak(self):\n",
    "        print(\"Meow!\")\n",
    "class Bird(Animal):\n",
    "    def speak(self):\n",
    "        print(\"Chirps!\")\n",
    "dog = Dog()\n",
    "cat = Cat()\n",
    "bird = Bird()\n",
    "dog.speak()\n",
    "cat.speak() \n",
    "bird.speak()"
   ]
  },
  {
   "cell_type": "code",
   "execution_count": null,
   "metadata": {},
   "outputs": [],
   "source": [
    "#Question 7\n",
    "print(\"\"\"\n",
    "In polymorphism, abstract methods are used when declared in the base class but implemented in the subclasses. \n",
    "They serve as a blueprint for what methods subclasses must implement.  \n",
    "Example:\n",
    "from abc import ABC, abstractmethod\n",
    "class Shape(ABC):\n",
    "    @abstractmethod\n",
    "    def area(self):\n",
    "        pass\n",
    "class Rectangle(Shape):\n",
    "    def __init__(self, width, height):\n",
    "        self.width = width\n",
    "        self.height = height\n",
    "    def area(self):\n",
    "        print(self.width * self.height)\n",
    "class Circle(Shape):\n",
    "    def __init__(self, radius):\n",
    "        self.radius = radius\n",
    "    \n",
    "    def area(self):\n",
    "        print(3.14 * self.radius ** 2)\n",
    "rectangle = Rectangle(5, 4)\n",
    "circle = Circle(3)\n",
    "rectangle.area()\n",
    "circle.area()\n",
    "      \"\"\")"
   ]
  },
  {
   "cell_type": "code",
   "execution_count": 25,
   "metadata": {},
   "outputs": [
    {
     "name": "stdout",
     "output_type": "stream",
     "text": [
      "Car has Started\n",
      "Boat has Started\n",
      "Bicycle has Started\n"
     ]
    }
   ],
   "source": [
    "#Question 8\n",
    "class Vehicle:\n",
    "    def start(self):\n",
    "        pass\n",
    "class Car(Vehicle):\n",
    "    def start(self):\n",
    "        print(\"Car has Started\")\n",
    "class Boat(Vehicle):\n",
    "    def start(self):\n",
    "        print(\"Boat has Started\")\n",
    "class Bicycle(Vehicle):\n",
    "    def start(self):\n",
    "        print(\"Bicycle has Started\")\n",
    "car  = Car()\n",
    "car.start()\n",
    "boat =Boat()\n",
    "boat.start()\n",
    "bicycle = Bicycle()\n",
    "bicycle.start()"
   ]
  },
  {
   "cell_type": "code",
   "execution_count": 38,
   "metadata": {},
   "outputs": [
    {
     "name": "stdout",
     "output_type": "stream",
     "text": [
      "\n",
      "isinstance() is used to check if an object is an instance of a particular class or any of its subclasses.      \n",
      "issubclass() helps you determine if a class is a subclass of another class\n",
      "They help in polymorphism by letting you check object types and class hierarchies at runtime\n",
      "      \n"
     ]
    }
   ],
   "source": [
    "#Question 9\n",
    "print(\"\"\"\n",
    "isinstance() is used to check if an object is an instance of a particular class or any of its subclasses.      \n",
    "issubclass() helps you determine if a class is a subclass of another class\n",
    "They help in polymorphism by letting you check object types and class hierarchies at runtime\n",
    "      \"\"\")"
   ]
  },
  {
   "cell_type": "code",
   "execution_count": 40,
   "metadata": {},
   "outputs": [
    {
     "name": "stdout",
     "output_type": "stream",
     "text": [
      "\n",
      "The @abstractmethod helps us to create a class with abstract methods and these abstract methods serve as a blueprint of what sub classes must implement.\n",
      "These methods can then be overrided in the subclasses. This enables polymorphism\n",
      "\n",
      "\n"
     ]
    }
   ],
   "source": [
    "#Question 10\n",
    "print(\"\"\"\n",
    "The @abstractmethod helps us to create a class with abstract methods and these abstract methods serve as a blueprint of what sub classes must implement.\n",
    "These methods can then be overrided in the subclasses. This enables polymorphism.\n",
    "\"\"\")"
   ]
  },
  {
   "cell_type": "code",
   "execution_count": 50,
   "metadata": {},
   "outputs": [
    {
     "name": "stdout",
     "output_type": "stream",
     "text": [
      "254.34\n",
      "4\n",
      "3.0\n"
     ]
    }
   ],
   "source": [
    "#Question 11\n",
    "class Shape:\n",
    "    def area(self):\n",
    "        pass  \n",
    "class Circle(Shape):\n",
    "    def __init__(self, radius):\n",
    "        self.radius = radius\n",
    "    def area(self):\n",
    "        print(3.14 * (self.radius ** 2))\n",
    "class Square(Shape):\n",
    "    def __init__(self, side):\n",
    "        self.side = side\n",
    "    def area(self):\n",
    "        print(self.side * self.side)\n",
    "class Triangle(Shape):\n",
    "    def __init__(self, base, height):\n",
    "        self.base = base\n",
    "        self.height = height\n",
    "    def area(self):\n",
    "        print(0.5 * self.base * self.height)\n",
    "circle = Circle(9)\n",
    "square = Square(2)\n",
    "triangle= Triangle(2,3)\n",
    "circle.area()\n",
    "square.area()\n",
    "triangle.area()\n"
   ]
  },
  {
   "cell_type": "code",
   "execution_count": 51,
   "metadata": {},
   "outputs": [
    {
     "name": "stdout",
     "output_type": "stream",
     "text": [
      "\n",
      "Polymorphism enhances reusability by allowing different objects to be treated uniformly through a common interface,\n",
      "enabling the same code to be used with different types of objects.\n",
      "Polymorphism in Python makes your code flexible because it lets you use different types of objects interchangeably,\n",
      "all through a common interface. \n",
      "      \n"
     ]
    }
   ],
   "source": [
    "#Question 12\n",
    "print(\"\"\"\n",
    "Polymorphism enhances reusability by allowing different objects to be treated uniformly through a common interface,\n",
    "enabling the same code to be used with different types of objects.\n",
    "Polymorphism in Python makes your code flexible because it lets you use different types of objects interchangeably,\n",
    "all through a common interface. \n",
    "      \"\"\")"
   ]
  },
  {
   "cell_type": "code",
   "execution_count": 53,
   "metadata": {},
   "outputs": [
    {
     "name": "stdout",
     "output_type": "stream",
     "text": [
      "\n",
      "The super() method helps subclasses to invoke functions in the parent class.\n",
      "It helps in polymorphism by letting subclasses use methods from their parent classes making it easier to customise\n",
      "          \n"
     ]
    }
   ],
   "source": [
    "#Question 13\n",
    "print(\"\"\"\n",
    "The super() method helps subclasses to invoke functions in the parent class.\n",
    "It helps in polymorphism by letting subclasses use methods from their parent classes making it easier to customise\n",
    "          \"\"\")"
   ]
  },
  {
   "cell_type": "code",
   "execution_count": 58,
   "metadata": {},
   "outputs": [
    {
     "data": {
      "text/plain": [
       "988000"
      ]
     },
     "execution_count": 58,
     "metadata": {},
     "output_type": "execute_result"
    }
   ],
   "source": [
    "#Question 14\n",
    "class BankAccount:\n",
    "    def __init__(self, account_number, balance=0):\n",
    "        self.account_number = account_number\n",
    "        self.balance = balance\n",
    "\n",
    "    def deposit(self, amount):\n",
    "        self.balance += amount\n",
    "        \n",
    "    def withdraw(self, amount):\n",
    "        if amount <= self.balance:\n",
    "            self.balance -= amount\n",
    "        else:\n",
    "            print(\"Insufficient Amount\")\n",
    "    def display_balance(self):\n",
    "        print(f\"Account Number: {self.account_number}  Balance: {self.balance}\")\n",
    "        \n",
    "class Savings(BankAccount):\n",
    "        def __init__(self, account_number, balance=0):\n",
    "            super().__init__(account_number, balance)\n",
    "            \n",
    "class CheckingAccount(BankAccount):\n",
    "    def __init__(self, account_number, balance=0):\n",
    "        super().__init__(account_number, balance)\n",
    "    def withdraw(self, amount):\n",
    "        if amount <= self.balance:\n",
    "            self.balance -= amount\n",
    "acc = CheckingAccount(123456789,1000000)\n",
    "acc.withdraw(12000)\n",
    "acc.balance"
   ]
  },
  {
   "cell_type": "code",
   "execution_count": 66,
   "metadata": {},
   "outputs": [
    {
     "name": "stdout",
     "output_type": "stream",
     "text": [
      "4 6\n",
      "3 9\n"
     ]
    }
   ],
   "source": [
    "#Question 15\n",
    "class Vector:\n",
    "    def __init__(self, x, y):\n",
    "        self.x = x\n",
    "        self.y = y\n",
    "\n",
    "    def __add__(self, other):\n",
    "        if isinstance(other, Vector):\n",
    "            return Vector(self.x + other.x, self.y + other.y)\n",
    "        else:\n",
    "            print(\"Error\")\n",
    "    def __mul__(self, other):\n",
    "        if isinstance(other, (int, float)):\n",
    "            return Vector(self.x * other, self.y * other)\n",
    "        else:\n",
    "            print(\"Error\")\n",
    "v1 = Vector(2, 3)\n",
    "scaled_v1 = v1 * 2  \n",
    "print(scaled_v1.x, scaled_v1.y)\n",
    "\n",
    "v1 = Vector(1, 4)\n",
    "v2 = Vector(2, 5)\n",
    "v3 = v1 + v2 \n",
    "print(v3.x, v3.y)  \n"
   ]
  },
  {
   "cell_type": "code",
   "execution_count": 68,
   "metadata": {},
   "outputs": [
    {
     "name": "stdout",
     "output_type": "stream",
     "text": [
      "Dynamic Polymorphism is polymorphism that occurs during runtime and involves method overriding instead of method overriding\n"
     ]
    }
   ],
   "source": [
    "#Question 16\n",
    "print(\"Dynamic Polymorphism is polymorphism that occurs during runtime and is achieved using method overriding instead of method overloading\")"
   ]
  },
  {
   "cell_type": "code",
   "execution_count": 73,
   "metadata": {},
   "outputs": [
    {
     "data": {
      "text/plain": [
       "120000"
      ]
     },
     "execution_count": 73,
     "metadata": {},
     "output_type": "execute_result"
    }
   ],
   "source": [
    "#Question 17\n",
    "from abc import ABC, abstractmethod\n",
    "\n",
    "class Employee(ABC):\n",
    "    def __init__(self, name, base_salary):\n",
    "        self.name = name\n",
    "        self.base_salary = base_salary\n",
    "\n",
    "    @abstractmethod\n",
    "    def calculate_salary(self):\n",
    "        pass\n",
    "class Manager(Employee):\n",
    "    def __init__(self, name, base_salary, bonus):\n",
    "        super().__init__(name, base_salary)\n",
    "        self.bonus = bonus\n",
    "\n",
    "    def calculate_salary(self):\n",
    "        return self.base_salary + self.bonus\n",
    "manager = Manager(\"Lynyrd Skynyrd\",100000,20000)\n",
    "manager.calculate_salary()\n"
   ]
  },
  {
   "cell_type": "code",
   "execution_count": 75,
   "metadata": {},
   "outputs": [
    {
     "name": "stdout",
     "output_type": "stream",
     "text": [
      "\n",
      "In Python, functions are first-class objects, meaning they can be assigned to variables,\n",
      "stored in data structures, and passed as arguments to other functions     \n",
      "      \n"
     ]
    }
   ],
   "source": [
    "#Question 18\n",
    "print(\"\"\"\n",
    "In Python, functions are first-class objects, meaning they can be assigned to variables,\n",
    "stored in data structures, and passed as arguments to other functions. This allows for polymorphism.  \n",
    "   \n",
    "      \"\"\")"
   ]
  },
  {
   "cell_type": "code",
   "execution_count": 1,
   "metadata": {},
   "outputs": [
    {
     "name": "stdout",
     "output_type": "stream",
     "text": [
      "\n",
      "Interfaces and abstract classes serve as blueprints for defining common behaviors and methods across related classes in object-oriented programming. \n",
      "      \n"
     ]
    }
   ],
   "source": [
    "#Question 19\n",
    "print(\"\"\"\n",
    "Interfaces and abstract classes serve as blueprints for defining common behaviors and methods across related classes in object-oriented programming. \n",
    "\n",
    "\"\"\")"
   ]
  },
  {
   "cell_type": "code",
   "execution_count": 11,
   "metadata": {},
   "outputs": [
    {
     "name": "stdout",
     "output_type": "stream",
     "text": [
      "Bird sound!\n"
     ]
    }
   ],
   "source": [
    "#Question 20\n",
    "class Animal:\n",
    "    def make_sound(self):\n",
    "        pass\n",
    "\n",
    "    def eat(self):\n",
    "        pass\n",
    "\n",
    "    def sleep(self):\n",
    "        pass\n",
    "\n",
    "class Mammal(Animal):\n",
    "    def make_sound(self):\n",
    "        print(\"Mammal sound!\")\n",
    "\n",
    "    def eat(self):\n",
    "        print(\"Mammal eating!\")\n",
    "\n",
    "    def sleep(self):\n",
    "        print(\"Mammal sleeping!\")\n",
    "\n",
    "class Bird(Animal):\n",
    "    def make_sound(self):\n",
    "        print(\"Bird sound!\")\n",
    "\n",
    "    def eat(self):\n",
    "        print(\"Bird eating!\")\n",
    "\n",
    "    def sleep(self):\n",
    "        print(\"Bird sleeping!\")\n",
    "\n",
    "class Reptile(Animal):\n",
    "    def make_sound(self):\n",
    "        print(\"Reptile sound!\")\n",
    "\n",
    "    def eat(self):\n",
    "        print(\"Reptile eating!\")\n",
    "\n",
    "    def sleep(self):\n",
    "        print(\"Reptile sleeping!\")\n",
    "bird = Bird()\n",
    "bird.make_sound()"
   ]
  },
  {
   "cell_type": "markdown",
   "metadata": {},
   "source": [
    "<h3>Encapsulation</h3>"
   ]
  },
  {
   "cell_type": "code",
   "execution_count": 86,
   "metadata": {},
   "outputs": [
    {
     "name": "stdout",
     "output_type": "stream",
     "text": [
      "\n",
      "Encapsulation means bundling toghether methods and attributes in a class.\n",
      "Its main goal is to hide the implementation details of the class to the user allowing for better control.      \n",
      "      \n",
      "      \n"
     ]
    }
   ],
   "source": [
    "#Question 1\n",
    "print(\"\"\"\n",
    "Encapsulation means bundling toghether methods and attributes in a class.\n",
    "Its main goal is to hide the implementation details of the class to the user allowing for better control.      \n",
    "      \n",
    "      \"\"\")"
   ]
  },
  {
   "cell_type": "code",
   "execution_count": 87,
   "metadata": {},
   "outputs": [
    {
     "name": "stdout",
     "output_type": "stream",
     "text": [
      "\n",
      "The main principles of encapsulation are:\n",
      "1)Data protection: Encapsulation keeps the internal state of a an object protected by keeping its data private.\n",
      "2)Information Hiding: Encapsulation hides the internal implementation details of a class from external code. Only the outer interface is accesible.\n",
      "      \n",
      "      \n"
     ]
    }
   ],
   "source": [
    "#Question 2\n",
    "print(\"\"\"\n",
    "The main principles of encapsulation are:\n",
    "1)Data protection: Encapsulation keeps the internal state of a an object protected by keeping its data private.\n",
    "2)Information Hiding: Encapsulation hides the internal implementation details of a class from external code. Only the outer interface is accesible.\n",
    "      \n",
    "      \"\"\")"
   ]
  },
  {
   "cell_type": "code",
   "execution_count": 88,
   "metadata": {},
   "outputs": [
    {
     "name": "stdout",
     "output_type": "stream",
     "text": [
      "\n",
      "Encapsulation in Python classes can be achieved by using access modifiers to control access to class members and by hiding\n",
      "implementation details using private attributes and methods      \n",
      "Example\n",
      "class Test:\n",
      "    def __init__(self):\n",
      "        self.__pi = 3.1415\n",
      "    def printPi(self):\n",
      "        print(self.__pi)\n",
      "class Test1(Test):\n",
      "    def printPi2(self):\n",
      "        print(self.__pi)\n",
      "Atest = Test1()\n",
      "Atest.printPi()\n",
      "Atest.printPi2() #AttributeError: 'Test1' object has no attribute '_Test1__pi'\n",
      "      \n"
     ]
    }
   ],
   "source": [
    "#Question 3\n",
    "print(\"\"\"\n",
    "Encapsulation in Python classes can be achieved by using access modifiers to control access to class members and by hiding\n",
    "implementation details using private attributes and methods      \n",
    "Example\n",
    "class Test:\n",
    "    def __init__(self):\n",
    "        self.__pi = 3.1415\n",
    "    def printPi(self):\n",
    "        print(self.__pi)\n",
    "class Test1(Test):\n",
    "    def printPi2(self):\n",
    "        print(self.__pi)\n",
    "Atest = Test1()\n",
    "Atest.printPi()\n",
    "Atest.printPi2() #AttributeError: 'Test1' object has no attribute '_Test1__pi'\n",
    "      \"\"\")"
   ]
  },
  {
   "cell_type": "code",
   "execution_count": 89,
   "metadata": {},
   "outputs": [
    {
     "name": "stdout",
     "output_type": "stream",
     "text": [
      "\n",
      "1)Public:\n",
      "Public attributes and methods are accessible from outside the class.\n",
      "These members are public by default if their names do not start with an underscore.      \n",
      "2)Protected:\n",
      "Protected members are accessible within the class itself and its subclasses.\n",
      "These members are indicated by prefixing their names with a single underscore.\n",
      "3)Private:\n",
      "Private members are only accessible within the class itself.\n",
      "These members are indicated by prefixing their names with a double underscore __.\n",
      "      \n"
     ]
    }
   ],
   "source": [
    "#Question 4\n",
    "print(\"\"\"\n",
    "1)Public:\n",
    "Public attributes and methods are accessible from outside the class.\n",
    "These members are public by default if their names do not start with an underscore.      \n",
    "2)Protected:\n",
    "Protected members are accessible within the class itself and its subclasses.\n",
    "These members are indicated by prefixing their names with a single underscore.\n",
    "3)Private:\n",
    "Private members are only accessible within the class itself.\n",
    "These members are indicated by prefixing their names with a double underscore __.\n",
    "      \"\"\")"
   ]
  },
  {
   "cell_type": "code",
   "execution_count": 90,
   "metadata": {},
   "outputs": [
    {
     "name": "stdout",
     "output_type": "stream",
     "text": [
      "Sharma\n",
      "James\n"
     ]
    }
   ],
   "source": [
    "#Question 5\n",
    "class Person:\n",
    "    def __init__(self, name):\n",
    "        self.__name = name \n",
    "\n",
    "    def get_name(self):\n",
    "        return self.__name\n",
    "\n",
    "    def set_name(self, name): \n",
    "        self.__name = name\n",
    "\n",
    "\n",
    "# Example usage:\n",
    "person1 = Person(\"Sharma\") \n",
    "print(person1.get_name())  \n",
    "person1.set_name(\"James\")  \n",
    "print(person1.get_name())  "
   ]
  },
  {
   "cell_type": "code",
   "execution_count": 91,
   "metadata": {},
   "outputs": [
    {
     "name": "stdout",
     "output_type": "stream",
     "text": [
      "\n",
      "Getter methods are used to retrieve the values of private attributes from outside the class.\n",
      "Setter methods are used to modify the values of private attributes from outside the class.\n",
      "Example:\n",
      "class Person:\n",
      "    def __init__(self, name):\n",
      "        self.__name = name \n",
      "\n",
      "    def get_name(self):\n",
      "        return self.__name\n",
      "\n",
      "    def set_name(self, name): \n",
      "        self.__name = name\n",
      "\n",
      "\n",
      "# Example usage:\n",
      "person1 = Person(\"Sharma\") \n",
      "print(person1.get_name())  \n",
      "person1.set_name(\"James\")  \n",
      "print(person1.get_name())  \n",
      "\n",
      "#Outuput:\n",
      "#Sharma\n",
      "#James\n",
      "      \n"
     ]
    }
   ],
   "source": [
    "#Question 6\n",
    "print(\"\"\"\n",
    "Getter methods are used to retrieve the values of private attributes from outside the class.\n",
    "Setter methods are used to modify the values of private attributes from outside the class.\n",
    "Example:\n",
    "class Person:\n",
    "    def __init__(self, name):\n",
    "        self.__name = name \n",
    "\n",
    "    def get_name(self):\n",
    "        return self.__name\n",
    "\n",
    "    def set_name(self, name): \n",
    "        self.__name = name\n",
    "\n",
    "\n",
    "# Example usage:\n",
    "person1 = Person(\"Sharma\") \n",
    "print(person1.get_name())  \n",
    "person1.set_name(\"James\")  \n",
    "print(person1.get_name())  \n",
    "\n",
    "#Outuput:\n",
    "#Sharma\n",
    "#James\n",
    "      \"\"\")"
   ]
  },
  {
   "cell_type": "code",
   "execution_count": 92,
   "metadata": {},
   "outputs": [
    {
     "name": "stdout",
     "output_type": "stream",
     "text": [
      "\n",
      "Name mangling is a process used by compilers to modify the names of functions, variables, and other identifiers in your code.      \n",
      "class Test:\n",
      "    def __init__(self):\n",
      "        self.__x = 10\n",
      "        \n",
      "t =Test()\n",
      "t.__x() # 'Test' object has no attribute '__x'\n",
      "t._Test__x # 10      \n",
      "      \n",
      "      \n"
     ]
    }
   ],
   "source": [
    "#Question 7\n",
    "print(\"\"\"\n",
    "Name mangling is a process used by compilers to modify the names of functions, variables, and other identifiers in your code.      \n",
    "class Test:\n",
    "    def __init__(self):\n",
    "        self.__x = 10\n",
    "        \n",
    "t =Test()\n",
    "t.__x() # 'Test' object has no attribute '__x'\n",
    "t._Test__x # 10      \n",
    "      \n",
    "      \"\"\")"
   ]
  },
  {
   "cell_type": "code",
   "execution_count": 93,
   "metadata": {},
   "outputs": [
    {
     "name": "stdout",
     "output_type": "stream",
     "text": [
      "100000\n",
      "120000\n",
      "105000\n"
     ]
    }
   ],
   "source": [
    "#Question 8\n",
    "class Bank:\n",
    "    def __init__(self,accountnumber,balance):\n",
    "        self.__accountnumber = accountnumber\n",
    "        self.__balance = balance\n",
    "    def getBalance(self):\n",
    "        print(self.__balance)\n",
    "    def deposit(self, amount):\n",
    "        self.__balance+=amount\n",
    "    def withdraw(self,amount):\n",
    "        if self.__balance < amount:\n",
    "            print(\"Deposit more Money\")\n",
    "        else:\n",
    "             self.__balance-=amount\n",
    "account = Bank(123456789, 100000)\n",
    "account.getBalance()\n",
    "account.deposit(20000)\n",
    "account.getBalance()\n",
    "account.withdraw(15000)\n",
    "account.getBalance()\n",
    "        "
   ]
  },
  {
   "cell_type": "code",
   "execution_count": 94,
   "metadata": {},
   "outputs": [
    {
     "name": "stdout",
     "output_type": "stream",
     "text": [
      "\n",
      "One advantage of hides internal data from direct external modification which prevents accidental or malicius changes.\n",
      "Another advantage is that it improves code readbility.\n",
      "      \n",
      "      \n"
     ]
    }
   ],
   "source": [
    "#Question 9\n",
    "print(\"\"\"\n",
    "One advantage of hides internal data from direct external modification which prevents accidental or malicius changes.\n",
    "Another advantage is that it improves code readbility.\n",
    "      \n",
    "      \"\"\")"
   ]
  },
  {
   "cell_type": "code",
   "execution_count": 95,
   "metadata": {},
   "outputs": [
    {
     "name": "stdout",
     "output_type": "stream",
     "text": [
      "3.1415\n"
     ]
    }
   ],
   "source": [
    "#Question 10\n",
    "class myClass:\n",
    "    def __init__(self):\n",
    "        self.__pi=3.1415 #Private variable pi\n",
    "my = myClass()\n",
    "#my.__pi will give error \n",
    "print(my._myClass__pi)\n"
   ]
  },
  {
   "cell_type": "code",
   "execution_count": 96,
   "metadata": {},
   "outputs": [
    {
     "name": "stdout",
     "output_type": "stream",
     "text": [
      "Hoxton\n",
      "Lyndon\n"
     ]
    }
   ],
   "source": [
    "#Question 11\n",
    "class Person:\n",
    "    def __init__(self,name,age,gender):\n",
    "        self._name =name\n",
    "        self._age =age\n",
    "        self._gender =gender\n",
    "    def getName(self):\n",
    "        print(self._name)\n",
    "    def getAge(self):\n",
    "        print(self._age)\n",
    "    def getGender(self):\n",
    "        print(self._gender)\n",
    "class Student(Person):\n",
    "    def __init__(self,name,age,gender,stud_id,course):\n",
    "        super().__init__(name,age,gender)\n",
    "        self._stud_id = stud_id\n",
    "        self._course = course\n",
    "class Professor(Person):\n",
    "    def __init__(self,name,age,gender,prof_id,department):\n",
    "        super().__init__(name,age,gender)\n",
    "        self._prof_id = prof_id\n",
    "        self._department = department\n",
    "stud = Student(\"Hoxton\",23,\"M\",419,\"CSE\")\n",
    "prof = Professor(\"Lyndon\",35,\"M\",2042,\"Mathematics\")\n",
    "stud.getName()\n",
    "prof.getName()       \n",
    "        "
   ]
  },
  {
   "cell_type": "code",
   "execution_count": 97,
   "metadata": {},
   "outputs": [
    {
     "name": "stdout",
     "output_type": "stream",
     "text": [
      "\n",
      "In Python, property decorators are a way to define properties on a class that can be accessed, modified, or deleted like regular attributes,\n",
      "but with custom getter, setter, and deleter methods      \n",
      "Property decorators help in encapsulation by providing controlled access to attributes.      \n",
      "      \n"
     ]
    }
   ],
   "source": [
    "#Question 12\n",
    "print(\"\"\"\n",
    "In Python, property decorators are a way to define properties on a class that can be accessed, modified, or deleted like regular attributes,\n",
    "but with custom getter, setter, and deleter methods      \n",
    "Property decorators help in encapsulation by providing controlled access to attributes.      \n",
    "      \"\"\")"
   ]
  },
  {
   "cell_type": "code",
   "execution_count": 98,
   "metadata": {},
   "outputs": [
    {
     "name": "stdout",
     "output_type": "stream",
     "text": [
      "\n",
      "Data hiding is the practice of hiding the internal state and implementation details of an object from the outside world      \n",
      "class Person:\n",
      "    def __init__(self, name, age):\n",
      "        self._name = name # Private member\n",
      "        self._age = age # Private member\n",
      "\n",
      "    def get_age(self):\n",
      "        return self._age\n",
      "\n",
      "# Usage example:\n",
      "person = Person(\"Alice\", 30)\n",
      "print(\"Age:\", person.get_age())\n",
      "      \n",
      "      \n"
     ]
    }
   ],
   "source": [
    "#Question 13\n",
    "print(\"\"\"\n",
    "Data hiding is the practice of hiding the internal state and implementation details of an object from the outside world      \n",
    "class Person:\n",
    "    def __init__(self, name, age):\n",
    "        self._name = name # Private member\n",
    "        self._age = age # Private member\n",
    "\n",
    "    def get_age(self):\n",
    "        return self._age\n",
    "\n",
    "# Usage example:\n",
    "person = Person(\"Alice\", 30)\n",
    "print(\"Age:\", person.get_age())\n",
    "      \n",
    "      \"\"\")"
   ]
  },
  {
   "cell_type": "code",
   "execution_count": 99,
   "metadata": {},
   "outputs": [
    {
     "name": "stdout",
     "output_type": "stream",
     "text": [
      "100000\n",
      "105000.0\n"
     ]
    }
   ],
   "source": [
    "#Question 14\n",
    "class Employee:\n",
    "    def __init__(self,salary,employee_id):\n",
    "        self.__salary = salary\n",
    "        self.__employee_id = employee_id\n",
    "    @property\n",
    "    def salary(self):\n",
    "        return self.__salary\n",
    "    @salary.setter\n",
    "    def salary(self, yearly_bonus):\n",
    "        if(yearly_bonus<0):\n",
    "            print(\"ERROR!!\")\n",
    "        else:\n",
    "            self.__salary += (yearly_bonus/100) *self.__salary\n",
    "emp = Employee(100000, \"WEFD32\")\n",
    "print(emp.salary)  # Output: 100000\n",
    "\n",
    "# Setting a yearly bonus of 5%\n",
    "emp.salary = 5\n",
    "print(emp.salary) "
   ]
  },
  {
   "cell_type": "code",
   "execution_count": 100,
   "metadata": {},
   "outputs": [
    {
     "name": "stdout",
     "output_type": "stream",
     "text": [
      "\n",
      "Accessors or Getters help to retrieve the value of a private variable whilst Mutators or setters help to set the value of a private variable   \n",
      "They help to maintain control over internal variables by encapsulating them.\n",
      "      \n"
     ]
    }
   ],
   "source": [
    "#Question 15\n",
    "print(\"\"\"\n",
    "Accessors or Getters help to retrieve the value of a private variable whilst Mutators or setters help to set the value of a private variable   \n",
    "They help to maintain control over internal variables by encapsulating them.\n",
    "      \"\"\")"
   ]
  },
  {
   "cell_type": "code",
   "execution_count": 101,
   "metadata": {},
   "outputs": [
    {
     "name": "stdout",
     "output_type": "stream",
     "text": [
      "\n",
      "Encapsulation enables the number of code lines, hence reducing redability.\n",
      "The program might get slower because of the extra getter and setter functions.\n",
      "It may make the code more complicated.\n",
      "    \n"
     ]
    }
   ],
   "source": [
    "#Question 16\n",
    "print(\"\"\"\n",
    "Encapsulation enables the number of code lines, hence reducing redability.\n",
    "The program might get slower because of the extra getter and setter functions.\n",
    "It may make the code more complicated.\n",
    "    \"\"\")"
   ]
  },
  {
   "cell_type": "code",
   "execution_count": 102,
   "metadata": {},
   "outputs": [
    {
     "name": "stdout",
     "output_type": "stream",
     "text": [
      "DSA For Dummies has been borrowed\n",
      "DSA For Dummies is already borrowed\n",
      "DSA For Dummies has been returned\n"
     ]
    }
   ],
   "source": [
    "#Question 17\n",
    "class Book:\n",
    "    def __init__(self,title, author,borrowed = False):\n",
    "        self._title = title\n",
    "        self._author = author\n",
    "        self._borrowed = borrowed\n",
    "        \n",
    "    def getName(self):\n",
    "        return self._title \n",
    "    def getAuthor(self):\n",
    "        return self._author \n",
    "    def getAuthor(self):\n",
    "        return self._borrowed \n",
    "    def Borrow(self):\n",
    "        if not self._borrowed:\n",
    "            print(f\"{self._title} has been borrowed\")\n",
    "            self._borrowed = True\n",
    "        else:\n",
    "            print(f\"{self._title} is already borrowed\")\n",
    "    def Return(self):\n",
    "        if(self._borrowed == True):\n",
    "            print(f\"{self._title} has been returned\")\n",
    "            self._borrowed = False\n",
    "        else:\n",
    "            print(f\"{self._title} is already returned\")\n",
    "            \n",
    "myBook = Book(\"DSA For Dummies\",\"John Doe\")\n",
    "myBook.getName()\n",
    "myBook.Borrow()\n",
    "myBook.Borrow()\n",
    "myBook.Return()\n",
    "    "
   ]
  },
  {
   "cell_type": "code",
   "execution_count": 103,
   "metadata": {},
   "outputs": [
    {
     "name": "stdout",
     "output_type": "stream",
     "text": [
      "\n",
      "In terms of reusability, encapsulation helps in bundling attributes and data into classes and these classes can be used multiple times in different parts of the program.\n",
      "In terms of modularity, it helps us to keep similar pieces of code toghether.     \n",
      "      \n"
     ]
    }
   ],
   "source": [
    "#Question 18\n",
    "print(\"\"\"\n",
    "In terms of reusability, encapsulation helps in bundling attributes and data into classes and these classes can be used multiple times in different parts of the program.\n",
    "In terms of modularity, it helps us to keep similar pieces of code toghether.     \n",
    "      \"\"\")"
   ]
  },
  {
   "cell_type": "code",
   "execution_count": 104,
   "metadata": {},
   "outputs": [
    {
     "name": "stdout",
     "output_type": "stream",
     "text": [
      "\n",
      "Information hiding means keeping attributes and methods in a class hidden so that it cannot be modified accidentally or maliously by a user.\n",
      "They can be accesed through public methods      \n",
      "      \n"
     ]
    }
   ],
   "source": [
    "#Question 19\n",
    "print(\"\"\"\n",
    "Information hiding means keeping attributes and methods in a class hidden so that it cannot be modified accidentally or maliously by a user.\n",
    "They can be accesed through public methods      \n",
    "      \"\"\")"
   ]
  },
  {
   "cell_type": "code",
   "execution_count": 105,
   "metadata": {},
   "outputs": [
    {
     "name": "stdout",
     "output_type": "stream",
     "text": [
      "John Doe\n",
      "Jane Doe\n"
     ]
    }
   ],
   "source": [
    "#Question 20\n",
    "class Customer:\n",
    "    def __init__(self, name, address,contact):\n",
    "        self.__name = name\n",
    "        self.__address = address\n",
    "        self.__contact = contact\n",
    "    def getName(self):\n",
    "        print(self.__name)\n",
    "    def getAddress(self):\n",
    "        print(self.__address)\n",
    "    def getContact(self):\n",
    "        print(self.__contact)\n",
    "    def setName(self,name):\n",
    "        self.__name = name\n",
    "    def setAddress(self,address):\n",
    "        self.__address = address\n",
    "    def setContact(self,contact):\n",
    "        self.__contact = contact\n",
    "cus = Customer(\"John Doe\", \"1234 Street CA\",\"1234567890\")\n",
    "cus.getName()\n",
    "cus.setName(\"Jane Doe\")\n",
    "cus.getName()   \n",
    "        "
   ]
  },
  {
   "cell_type": "markdown",
   "metadata": {},
   "source": [
    "<h3>Abstraction\n",
    "</h3>"
   ]
  },
  {
   "cell_type": "code",
   "execution_count": 106,
   "metadata": {},
   "outputs": [
    {
     "name": "stdout",
     "output_type": "stream",
     "text": [
      "\n",
      "Abstraction is a fundamental concept that involves hiding the complex implementation details of a system and exposing only the necessary features      \n",
      "      \n",
      "      \n"
     ]
    }
   ],
   "source": [
    "#Question 1\n",
    "print(\"\"\"\n",
    "Abstraction is a fundamental concept that involves hiding the complex implementation details of a system and exposing only the necessary features      \n",
    "      \n",
    "      \"\"\")"
   ]
  },
  {
   "cell_type": "code",
   "execution_count": 107,
   "metadata": {},
   "outputs": [
    {
     "name": "stdout",
     "output_type": "stream",
     "text": [
      "\n",
      "1)Abstraction allows you to break down a complex system into smaller, more manageable modules.\n",
      "2)Abstraction allows you to hide the internal implementation details of a module, class, or system behind well-defined interfaces. This significantly reduces code complexity\n",
      "      \n"
     ]
    }
   ],
   "source": [
    "#Question 2\n",
    "print(\"\"\"\n",
    "1)Abstraction allows you to break down a complex system into smaller, more manageable modules.\n",
    "2)Abstraction allows you to hide the internal implementation details of a module, class, or system behind well-defined interfaces. This significantly reduces code complexity\n",
    "      \"\"\")"
   ]
  },
  {
   "cell_type": "code",
   "execution_count": 108,
   "metadata": {},
   "outputs": [
    {
     "name": "stdout",
     "output_type": "stream",
     "text": [
      "254.34\n",
      "24\n"
     ]
    }
   ],
   "source": [
    "#Question 3\n",
    "from abc import ABC, abstractmethod\n",
    "\n",
    "class Shape(ABC):\n",
    "    @abstractmethod\n",
    "    def calculate_area(self):\n",
    "        pass\n",
    "\n",
    "class Circle(Shape):\n",
    "    def __init__(self, radius):\n",
    "        self.radius = radius\n",
    "        self.pi = 3.14\n",
    "\n",
    "    def calculate_area(self):\n",
    "        print(self.pi * self.radius ** 2)\n",
    "\n",
    "class Rectangle(Shape):\n",
    "    def __init__(self, width, height):\n",
    "        self.width = width\n",
    "        self.height = height\n",
    "\n",
    "    def calculate_area(self):\n",
    "        print(self.width * self.height)\n",
    "\n",
    "# Example usage\n",
    "circle = Circle(9)\n",
    "circle.calculate_area()\n",
    "\n",
    "rectangle = Rectangle(4, 6)\n",
    "rectangle.calculate_area()\n"
   ]
  },
  {
   "cell_type": "code",
   "execution_count": 109,
   "metadata": {},
   "outputs": [
    {
     "name": "stdout",
     "output_type": "stream",
     "text": [
      "\n",
      "Abstract classes in Python are classes that cannot be instantiated directly and are designed to serve as base classes for other classes.       \n",
      "They have typically  1 or more abstrct methods, that not implemented but are overidden in other subclasses\n",
      "\n"
     ]
    }
   ],
   "source": [
    "#Question 4\n",
    "print(\"\"\"\n",
    "Abstract classes in Python are classes that cannot be instantiated directly and are designed to serve as base classes for other classes.       \n",
    "They have typically  1 or more abstrct methods, that not implemented but are overidden in other subclasses\n",
    "\"\"\")"
   ]
  },
  {
   "cell_type": "code",
   "execution_count": 110,
   "metadata": {},
   "outputs": [
    {
     "name": "stdout",
     "output_type": "stream",
     "text": [
      "\n",
      "Abstract classes are not instantiated directly and are designed to subclassed while normal classes are instantiated directly.\n",
      "Abstract methods in Abstract methods are not implemented but are only implemented in the  subclasses.\n",
      "In normal classes, the method must be implemented directly.\n",
      "\n",
      "      \n"
     ]
    }
   ],
   "source": [
    "#Question 5\n",
    "print(\"\"\"\n",
    "Abstract classes are not instantiated directly and are designed to subclassed while normal classes are instantiated directly.\n",
    "Abstract methods in Abstract methods are not implemented but are only implemented in the  subclasses.\n",
    "In normal classes, the method must be implemented directly.\n",
    "\n",
    "      \"\"\")"
   ]
  },
  {
   "cell_type": "code",
   "execution_count": 111,
   "metadata": {},
   "outputs": [
    {
     "name": "stdout",
     "output_type": "stream",
     "text": [
      "200000\n",
      "212000\n",
      "207000\n"
     ]
    }
   ],
   "source": [
    "#Question 6\n",
    "class Bank:\n",
    "    def __init__(self,accountnumber,balance):\n",
    "        self.__accountnumber = accountnumber\n",
    "        self.__balance = balance\n",
    "    def getBalance(self):\n",
    "        print(self.__balance)\n",
    "    def deposit(self, amount):\n",
    "        self.__balance+=amount\n",
    "    def withdraw(self,amount):\n",
    "        if self.__balance < amount:\n",
    "            print(\"Deposit more Money\")\n",
    "        else:\n",
    "             self.__balance-=amount\n",
    "account = Bank(123456789, 200000)\n",
    "account.getBalance()\n",
    "account.deposit(12000)\n",
    "account.getBalance()\n",
    "account.withdraw(5000)\n",
    "account.getBalance()\n",
    "        "
   ]
  },
  {
   "cell_type": "code",
   "execution_count": 112,
   "metadata": {},
   "outputs": [
    {
     "name": "stdout",
     "output_type": "stream",
     "text": [
      "\n",
      "An interface defines a contract between a class and its users. \n",
      "It specifies a set of methods that a class must implement in order to be considered compatible with the interface.      \n",
      "      \n",
      "      \n"
     ]
    }
   ],
   "source": [
    "#Question 7\n",
    "print(\"\"\"\n",
    "An interface defines a contract between a class and its users. \n",
    "It specifies a set of methods that a class must implement in order to be considered compatible with the interface.      \n",
    "      \n",
    "      \"\"\")"
   ]
  },
  {
   "cell_type": "code",
   "execution_count": 113,
   "metadata": {},
   "outputs": [
    {
     "name": "stdout",
     "output_type": "stream",
     "text": [
      "Cat eats\n",
      "Cat sleeps\n"
     ]
    }
   ],
   "source": [
    "#Question 8\n",
    "from abc import ABC, abstractmethod\n",
    "class Animal:\n",
    "    @abstractmethod\n",
    "    def sleep(self):\n",
    "        pass\n",
    "    @abstractmethod\n",
    "    def eat(self):\n",
    "        pass\n",
    "class Mammal(Animal):\n",
    "    def __init__(self, animal_name):\n",
    "        self.animal_name = animal_name\n",
    "    def sleep(self):\n",
    "        print(f\"{self.animal_name} sleeps\")\n",
    "    def eat(self):\n",
    "        print(f\"{self.animal_name} eats\")\n",
    "cat = Mammal(\"Cat\")\n",
    "cat.eat()\n",
    "cat.sleep()\n",
    "\n",
    "    "
   ]
  },
  {
   "cell_type": "code",
   "execution_count": 114,
   "metadata": {},
   "outputs": [
    {
     "name": "stdout",
     "output_type": "stream",
     "text": [
      "\n",
      "Encapsulation bundles data (attributes) and the methods that operate on that data into a class aand controls access\n",
      "of internal variables and methods in the class using access modifiers. And Abstraction focuses on removing the unnecessary parts complexity of the program. \n",
      "It deals on what the object does instead of the how.\n",
      "Toghether these 2 programs well-structured and reusable code\n",
      "      \n"
     ]
    }
   ],
   "source": [
    "#Question 9\n",
    "print(\"\"\"\n",
    "Encapsulation bundles data (attributes) and the methods that operate on that data into a class aand controls access\n",
    "of internal variables and methods in the class using access modifiers. And Abstraction focuses on removing the unnecessary parts complexity of the program. \n",
    "It deals on what the object does instead of the how.\n",
    "Toghether these 2 programs well-structured and reusable code\n",
    "      \"\"\")"
   ]
  },
  {
   "cell_type": "code",
   "execution_count": 115,
   "metadata": {},
   "outputs": [
    {
     "name": "stdout",
     "output_type": "stream",
     "text": [
      "\n",
      "One of the main uses of abstraction in python is to create a blueprint of a class. THis improves readability and reuseabilty     \n",
      "      \n",
      "      \n"
     ]
    }
   ],
   "source": [
    "#Question 10\n",
    "print(\"\"\"\n",
    "One of the main uses of abstraction in python is to create a blueprint of a class. THis improves readability and reuseabilty     \n",
    "      \n",
    "      \"\"\")"
   ]
  },
  {
   "cell_type": "code",
   "execution_count": 116,
   "metadata": {},
   "outputs": [
    {
     "name": "stdout",
     "output_type": "stream",
     "text": [
      "Cat has Stopped\n",
      "Cat has Started\n"
     ]
    }
   ],
   "source": [
    "#Question 11\n",
    "from abc import ABC, abstractmethod\n",
    "class Vehicle:\n",
    "    @abstractmethod\n",
    "    def stop(self):\n",
    "        pass\n",
    "    @abstractmethod\n",
    "    def start(self):\n",
    "        pass\n",
    "class Car(Vehicle):\n",
    "    def __init__(self, car_name):\n",
    "        self.car_name = car_name\n",
    "    def stop(self):\n",
    "        print(f\"{self.car_name} has Stopped\")\n",
    "    def start(self):\n",
    "        print(f\"{self.car_name} has Started\")\n",
    "car = Car(\"Cat\")\n",
    "car.stop()\n",
    "car.start()\n",
    "\n",
    "    "
   ]
  },
  {
   "cell_type": "code",
   "execution_count": 117,
   "metadata": {},
   "outputs": [
    {
     "name": "stdout",
     "output_type": "stream",
     "text": [
      "\n",
      "Abstract properties in Python are a way to define attributes in abstract classes that subclasses are required to implement. \n",
      "They're useful when you want to add certain properties in subclasses but don't want to provide an implementation in the abstract class itself.      \n",
      "      \n"
     ]
    }
   ],
   "source": [
    "#Question 12\n",
    "print(\"\"\"\n",
    "Abstract properties in Python are a way to define attributes in abstract classes that subclasses are required to implement. \n",
    "They're useful when you want to add certain properties in subclasses but don't want to provide an implementation in the abstract class itself.      \n",
    "      \"\"\")"
   ]
  },
  {
   "cell_type": "code",
   "execution_count": 118,
   "metadata": {},
   "outputs": [
    {
     "name": "stdout",
     "output_type": "stream",
     "text": [
      "2500\n"
     ]
    }
   ],
   "source": [
    "#Question 13\n",
    "from abc import ABC, abstractmethod\n",
    "\n",
    "class Employee(ABC):\n",
    "    def __init__(self, name, id):\n",
    "        self.name = name\n",
    "        self.id = id\n",
    "\n",
    "    @abstractmethod\n",
    "    def get_salary(self):\n",
    "        pass\n",
    "class Manager(Employee):\n",
    "    def __init__(self, name,id ,department, hourly_rate, hours_worked):\n",
    "        super().__init__(name,id)\n",
    "        self.department = department\n",
    "        self.hourly_rate = hourly_rate\n",
    "        self.hours_worked = hours_worked\n",
    "    def get_salary(self):\n",
    "        print(self.hourly_rate*self.hours_worked)\n",
    "person = Manager(\"Joe Dane\",1234,\"HR\",50,50)\n",
    "person.get_salary()"
   ]
  },
  {
   "cell_type": "code",
   "execution_count": 119,
   "metadata": {},
   "outputs": [
    {
     "name": "stdout",
     "output_type": "stream",
     "text": [
      "\n",
      "Abstract classes focus on what is to implemented in a class while concrete classes focus on both what and how is to implemented in a class.\n",
      "Abstract classes are not directly instantiated while concrete classes are.\n",
      "\n"
     ]
    }
   ],
   "source": [
    "#Question 14\n",
    "print(\"\"\"\n",
    "Abstract classes focus on what is to implemented in a class while concrete classes focus on both what and how is to implemented in a class.\n",
    "Abstract classes are not directly instantiated while concrete classes are.\n",
    "\"\"\")"
   ]
  },
  {
   "cell_type": "code",
   "execution_count": 120,
   "metadata": {},
   "outputs": [
    {
     "name": "stdout",
     "output_type": "stream",
     "text": [
      "\n",
      "Abstract Data Types (ADTs) are theoretical concepts used to define data structures purely by their behavior from the point of view of a user, without specifying how these behaviors are implemented.         \n",
      "      \n"
     ]
    }
   ],
   "source": [
    "#Question 15\n",
    "print(\"\"\"\n",
    "Abstract Data Types (ADTs) are theoretical concepts used to define data structures purely by their behavior from the point of view of a user, without specifying how these behaviors are implemented.         \n",
    "      \"\"\")"
   ]
  },
  {
   "cell_type": "code",
   "execution_count": 121,
   "metadata": {},
   "outputs": [
    {
     "name": "stdout",
     "output_type": "stream",
     "text": [
      "ASUS G14 has powered on\n",
      "ASUS G14 has shut down\n"
     ]
    }
   ],
   "source": [
    "#Question 16\n",
    "\n",
    "from abc import ABC, abstractmethod\n",
    "\n",
    "class System(ABC):\n",
    "    def __init__(self, name):\n",
    "        self.name = name\n",
    "    @abstractmethod\n",
    "    def power_on(self):\n",
    "        pass\n",
    "    def shutdown(self):\n",
    "        pass\n",
    "class Computer(System):\n",
    "    def __init__(self, name):\n",
    "        super().__init__(name)\n",
    "        \n",
    "    def power_on(self):\n",
    "        print(f\"{self.name} has powered on\")\n",
    "        #os.system(\"shutdown /s /t 1\") \n",
    "    def shutdown(self):\n",
    "        print(f\"{self.name} has shut down\")\n",
    "        #os.system(\"shutdown /s /t 1\") \n",
    "        \n",
    "device1 = Computer(\"ASUS G14\")\n",
    "device1.power_on()\n",
    "device1.shutdown()\n",
    "\n",
    "        \n",
    "        \n"
   ]
  },
  {
   "cell_type": "code",
   "execution_count": 122,
   "metadata": {},
   "outputs": [
    {
     "name": "stdout",
     "output_type": "stream",
     "text": [
      "\n",
      "Large-scale development projects are very complex. \n",
      "Abstraction is a powerful tool that helps manage this complexity becuase it focuses on what is to implemented in a class rather than how.\n",
      "      \n"
     ]
    }
   ],
   "source": [
    "#Question 17\n",
    "print(\"\"\"\n",
    "Large-scale development projects are very complex. \n",
    "Abstraction is a powerful tool that helps manage this complexity becuase it focuses on what is to implemented in a class rather than how.\n",
    "      \"\"\")"
   ]
  },
  {
   "cell_type": "code",
   "execution_count": 123,
   "metadata": {},
   "outputs": [
    {
     "name": "stdout",
     "output_type": "stream",
     "text": [
      "\n",
      "Python's abstraction tools like functions and classes hide complex details, allowing you to write reusable code. This also keeps code maintainable and scalable.      \n",
      "      \n",
      "      \n"
     ]
    }
   ],
   "source": [
    "#Question 18\n",
    "print(\"\"\"\n",
    "Python's abstraction tools like functions and classes hide complex details, allowing you to write reusable code. This also keeps code maintainable and scalable.      \n",
    "      \n",
    "      \"\"\")"
   ]
  },
  {
   "cell_type": "code",
   "execution_count": 124,
   "metadata": {},
   "outputs": [
    {
     "name": "stdout",
     "output_type": "stream",
     "text": [
      "DSA for Students is already returned\n",
      "DSA for Students has been borrowed\n",
      "DSA for Students is already been borrowed\n"
     ]
    }
   ],
   "source": [
    "#Question 19\n",
    "from abc import ABC, abstractmethod\n",
    "class LibraryItem(ABC):\n",
    "    @abstractmethod\n",
    "    def __init__(self, name, author, borrowed = False):\n",
    "        self.name = name\n",
    "        self.author = author\n",
    "        self.borrowed = borrowed\n",
    "    @abstractmethod\n",
    "    def borrow(self):\n",
    "        pass\n",
    "    def book_return(self):\n",
    "        pass\n",
    "class Book(LibraryItem):\n",
    "    def __init__(self,name, author, borrowed = False):\n",
    "        super().__init__(name, author, borrowed = False)\n",
    "    def borrow(self):\n",
    "        if(self.borrowed):\n",
    "            print(f\"{self.name} has been borrowed\")\n",
    "            self.borrowed = False\n",
    "        else:\n",
    "            print(f\"{self.name} is already been borrowed\")\n",
    "            self.borrowed = True\n",
    "    def book_return(self):\n",
    "        if(self.borrowed):\n",
    "            print(f\"{self.name} has been returned\")\n",
    "            self.borrowed = False\n",
    "        else:\n",
    "            print(f\"{self.name} is already returned\")\n",
    "            self.borrowed = True\n",
    "book1 = Book(\"DSA for Students\", \"Ozzy Osbourne\")\n",
    "book1.book_return()\n",
    "book1.borrow()\n",
    "book1.borrow()"
   ]
  },
  {
   "cell_type": "code",
   "execution_count": 125,
   "metadata": {},
   "outputs": [
    {
     "name": "stdout",
     "output_type": "stream",
     "text": [
      "\n",
      "Method abstraction is a technique  used to focus on the what a method does, rather than the how it does it.       \n",
      "Method abstraction hides the inner workings of a method, focusing on what it does. \n",
      "This creates a foundation for polymorphism, which allows different objects to respond uniquely to the same method call.\n",
      "    \n"
     ]
    }
   ],
   "source": [
    "#Question 20\n",
    "print(\"\"\"\n",
    "Method abstraction is a technique  used to focus on the what a method does, rather than the how it does it.       \n",
    "Method abstraction hides the inner workings of a method, focusing on what it does. \n",
    "This creates a foundation for polymorphism, which allows different objects to respond uniquely to the same method call.\n",
    "    \"\"\")"
   ]
  },
  {
   "cell_type": "markdown",
   "metadata": {},
   "source": [
    "<h3>Composition\n",
    "</h3>"
   ]
  },
  {
   "cell_type": "code",
   "execution_count": 1,
   "metadata": {},
   "outputs": [
    {
     "name": "stdout",
     "output_type": "stream",
     "text": [
      "\n",
      "Composition in Python is a design principle where a class is built using one or more objects of other classes, allowing complex functionality      \n",
      "      \n"
     ]
    }
   ],
   "source": [
    "#Question 1\n",
    "print(\"\"\"\n",
    "Composition in Python is a design principle where a class is built using one or more objects of other classes, allowing complex functionality      \n",
    "      \"\"\")"
   ]
  },
  {
   "cell_type": "code",
   "execution_count": 2,
   "metadata": {},
   "outputs": [
    {
     "name": "stdout",
     "output_type": "stream",
     "text": [
      "\n",
      "Inheritance is a \"is-a\" relationship while composition is a \"has-a\" relationship.      \n",
      "\n"
     ]
    }
   ],
   "source": [
    "#Question 2\n",
    "print(\"\"\"\n",
    "Inheritance is a \"is-a\" relationship while composition is a \"has-a\" relationship.      \n",
    "\"\"\")"
   ]
  },
  {
   "cell_type": "code",
   "execution_count": 11,
   "metadata": {},
   "outputs": [
    {
     "name": "stdout",
     "output_type": "stream",
     "text": [
      "'DSA for Dummies' by JANE DOE\n"
     ]
    }
   ],
   "source": [
    "#Question 3\n",
    "class Author:\n",
    "    def __init__(self, name,birthdate):\n",
    "        self.name = name\n",
    "        self.birthdate = birthdate\n",
    "class Book:\n",
    "    def __init__(self, title, author, isbn):\n",
    "        self.title= title\n",
    "        self.author = author\n",
    "        self.isbn = isbn\n",
    "    def __str__(self):\n",
    "        return f\"'{self.title}' by {self.author.name}\"\n",
    "author = Author(\"JANE DOE\",\"22/10/2000\")\n",
    "book = Book(\"DSA for Dummies\",author,123456789)\n",
    "print(book)\n"
   ]
  },
  {
   "cell_type": "code",
   "execution_count": 12,
   "metadata": {},
   "outputs": [
    {
     "name": "stdout",
     "output_type": "stream",
     "text": [
      "\n",
      "Using composition instead of inheritance in Python makes code more flexible and reusable by combining simple, independent objects.     \n",
      "      \n"
     ]
    }
   ],
   "source": [
    "#Question 4\n",
    "print(\"\"\"\n",
    "Using composition instead of inheritance in Python makes code more flexible and reusable by combining simple, independent objects.     \n",
    "      \"\"\")"
   ]
  },
  {
   "cell_type": "code",
   "execution_count": 13,
   "metadata": {},
   "outputs": [
    {
     "name": "stdout",
     "output_type": "stream",
     "text": [
      "\n",
      "      To implement composition in Python classes, you define classes where one class contains instances of other classes. \n",
      "      Example:\n",
      "      class Author:\n",
      "    def __init__(self, name,birthdate):\n",
      "        self.name = name\n",
      "        self.birthdate = birthdate\n",
      "class Book:\n",
      "    def __init__(self, title, author, isbn):\n",
      "        self.title= title\n",
      "        self.author = author\n",
      "        self.isbn = isbn\n",
      "    def __str__(self):\n",
      "        return f\"'{self.title}' by {self.author.name}\"\n",
      "author = Author(\"JANE DOE\",\"22/10/2000\")\n",
      "book = Book(\"DSA for Dummies\",author,123456789)\n",
      "print(book)\n",
      "      \n"
     ]
    }
   ],
   "source": [
    "#Question 5\n",
    "print(\"\"\"\n",
    "      To implement composition in Python classes, you define classes where one class contains instances of other classes. \n",
    "      Example:\n",
    "      class Author:\n",
    "    def __init__(self, name,birthdate):\n",
    "        self.name = name\n",
    "        self.birthdate = birthdate\n",
    "class Book:\n",
    "    def __init__(self, title, author, isbn):\n",
    "        self.title= title\n",
    "        self.author = author\n",
    "        self.isbn = isbn\n",
    "    def __str__(self):\n",
    "        return f\"'{self.title}' by {self.author.name}\"\n",
    "author = Author(\"JANE DOE\",\"22/10/2000\")\n",
    "book = Book(\"DSA for Dummies\",author,123456789)\n",
    "print(book)\n",
    "      \"\"\")"
   ]
  },
  {
   "cell_type": "code",
   "execution_count": 31,
   "metadata": {},
   "outputs": [
    {
     "name": "stdout",
     "output_type": "stream",
     "text": [
      "Playing: Holy Diver from Rock n Roll\n"
     ]
    }
   ],
   "source": [
    "#Question 6\n",
    "class Playlist:\n",
    "    def __init__(self,playlist_name):\n",
    "        self.playlist_name = playlist_name\n",
    "        self.music_list = []\n",
    "    def add_music(self,*args):\n",
    "        for i in args:\n",
    "            self.music_list.append(i)  \n",
    "class Music:\n",
    "    def __init__(self, music_name, music_author):\n",
    "        self.music_name = music_name\n",
    "        self.music_author = music_author\n",
    "class Player:\n",
    "    def __init__(self):\n",
    "        self.playlists = []\n",
    "    def add_playlist(self,playlist):\n",
    "        self.playlists.append(playlist)\n",
    "    def play(self,playlist,index):\n",
    "        music =playlist.music_list[index]\n",
    "        print(f\"Playing: {music.music_name} from {playlist.playlist_name}\")\n",
    "        \n",
    "player = Player()\n",
    "song1 = Music(\"Are you Ready\",\"AC/DC\")\n",
    "song2= Music(\"Holy Diver\",\"Dio\")\n",
    "song3 = Music(\"Kickstart My Heart\",\"Motley Crue\")\n",
    "playlist_one = Playlist(\"Rock n Roll\")\n",
    "playlist_one.add_music(song1,song2,song3)\n",
    "\n",
    "player.add_playlist(playlist_one)\n",
    "player.play(playlist_one,1)\n",
    "\n",
    "\n"
   ]
  },
  {
   "cell_type": "code",
   "execution_count": 33,
   "metadata": {},
   "outputs": [
    {
     "name": "stdout",
     "output_type": "stream",
     "text": [
      "\n",
      "In composition, a \"has-a\" relationship signifies that a class contains an instance of another class as one of its attributes.      \n",
      "It is helpful in designing software systems because it allows us to create complex objects from simpler and smaller projects.\n",
      "      \n"
     ]
    }
   ],
   "source": [
    "#Question 7\n",
    "print(\"\"\"\n",
    "In composition, a \"has-a\" relationship signifies that a class contains an instance of another class as one of its attributes.      \n",
    "It is helpful in designing software systems because it allows us to create complex objects from simpler and smaller projects.\n",
    "      \"\"\")"
   ]
  },
  {
   "cell_type": "code",
   "execution_count": 52,
   "metadata": {},
   "outputs": [
    {
     "name": "stdout",
     "output_type": "stream",
     "text": [
      "\n",
      "CPU: AMD Ryzen 9 6900HS\n",
      "RAM: 16\n",
      "Storage: SSD\n",
      "              \n"
     ]
    }
   ],
   "source": [
    "#Question 8\n",
    "\n",
    "class CPU:\n",
    "    def __init__(self,name_of_core,no_of_cores,no_of_threads):\n",
    "        self.name_of_core = name_of_core\n",
    "        self.no_of_cores = no_of_cores\n",
    "        self.no_of_threads = no_of_threads\n",
    "class RAM:\n",
    "    def __init__(self, space,speed):\n",
    "        self.space = space\n",
    "        self.speed = speed\n",
    "class Storage:\n",
    "    def __init__(self, type, capacity):\n",
    "        self.type = type \n",
    "        self.capacity = capacity  \n",
    "class Computer:\n",
    "    def __init__(self, cpu, ram, storage):\n",
    "        self.cpu = cpu\n",
    "        self.ram = ram\n",
    "        self.storage = storage\n",
    "    def display(self):\n",
    "        print(f\"\"\"\n",
    "CPU: {self.cpu.name_of_core}\n",
    "RAM: {self.ram.space}\n",
    "Storage: {self.storage.type}\n",
    "              \"\"\")\n",
    "\n",
    "# Example usage\n",
    "cpu = CPU(\"AMD Ryzen 9 6900HS\", 8, 3.3)\n",
    "ram = RAM(16, 3200)\n",
    "storage = Storage(\"SSD\", 512)\n",
    "c1 = Computer(cpu,ram,storage)\n",
    "c1.display()\n"
   ]
  },
  {
   "cell_type": "code",
   "execution_count": 53,
   "metadata": {},
   "outputs": [
    {
     "name": "stdout",
     "output_type": "stream",
     "text": [
      "\n",
      "Delegation in composition involves one object relying on another to perform a specific task, effectively \"delegating\" the responsibility.     \n",
      "This approach simplifies the design of complex systems by promoting modularity.     \n",
      "      \n"
     ]
    }
   ],
   "source": [
    "#Question 9\n",
    "print(\"\"\"\n",
    "Delegation in composition involves one object relying on another to perform a specific task, effectively \"delegating\" the responsibility.     \n",
    "This approach simplifies the design of complex systems by promoting modularity.     \n",
    "      \"\"\")"
   ]
  },
  {
   "cell_type": "code",
   "execution_count": 56,
   "metadata": {},
   "outputs": [
    {
     "name": "stdout",
     "output_type": "stream",
     "text": [
      "Engine started.\n",
      "Wheels rotating.\n",
      "Car started.\n",
      "Engine stopped.\n",
      "Car stopped.\n"
     ]
    }
   ],
   "source": [
    "#Question 10\n",
    "class Engine:\n",
    "    def start(self):\n",
    "        print(\"Engine started.\")\n",
    "\n",
    "    def stop(self):\n",
    "        print(\"Engine stopped.\")\n",
    "\n",
    "class Wheels:\n",
    "    def rotate(self):\n",
    "        print(\"Wheels rotating.\")\n",
    "\n",
    "\n",
    "class Car:\n",
    "    def __init__(self):\n",
    "        self.engine = Engine()\n",
    "        self.wheels = Wheels()\n",
    "\n",
    "    def start(self):\n",
    "        self.engine.start()\n",
    "        self.wheels.rotate()\n",
    "        print(\"Car started.\")\n",
    "\n",
    "    def stop(self):\n",
    "        self.engine.stop()\n",
    "        print(\"Car stopped.\")\n",
    "\n",
    "# Example usage:\n",
    "my_car = Car()\n",
    "my_car.start()\n",
    "my_car.stop()\n",
    " "
   ]
  },
  {
   "cell_type": "code",
   "execution_count": 58,
   "metadata": {},
   "outputs": [
    {
     "name": "stdout",
     "output_type": "stream",
     "text": [
      "  \n",
      "In Python, you can encapsulate and hide the details of composed objects by making their attributes private using the double underscore (__) prefix.      \n",
      "      \n"
     ]
    }
   ],
   "source": [
    "#Question 11\n",
    "print(\"\"\"  \n",
    "In Python, you can encapsulate and hide the details of composed objects by making their attributes private using the double underscore (__) prefix.      \n",
    "      \"\"\")"
   ]
  },
  {
   "cell_type": "code",
   "execution_count": 77,
   "metadata": {},
   "outputs": [
    {
     "name": "stdout",
     "output_type": "stream",
     "text": [
      "\n",
      "Students: ['Marcus Fenix', 'Clayton Carmine']             \n",
      "Instructor: ['Pankaj Sir', 'Vishwadeep Sir'] \n",
      "Course: Intro to pointers   \n",
      "              \n"
     ]
    }
   ],
   "source": [
    "#Question 12\n",
    "class Student:\n",
    "    def __init__(self, name,id):\n",
    "        self.name =name\n",
    "        self.id = id\n",
    "class Instructor:\n",
    "    def __init__(self, name,course,id):\n",
    "        self.name =name\n",
    "        self.course = course\n",
    "        self.id = id\n",
    "class CourseMaterial:\n",
    "    def __init__(self, book,syllabus):\n",
    "        self.book =book\n",
    "        self.syllabus = syllabus\n",
    "        \n",
    "class UniversityCourse:\n",
    "    def __init__(self):\n",
    "        self.student = []\n",
    "        self.instructor  =[]\n",
    "        self.coursematerial = None\n",
    "    def add_students(self,*args):\n",
    "        for i in args:\n",
    "            self.student.append(i)\n",
    "    def add_instructor(self,*args):\n",
    "        for i in args:\n",
    "            self.instructor.append(i)\n",
    "    def add_course_material(self, course_material):\n",
    "        self.course_material = course_material\n",
    "    def display(self):\n",
    "        print(f\"\"\"\n",
    "Students: {[x.name for x in self.student]}             \n",
    "Instructor: {[x.name for x in self.instructor]} \n",
    "Course: {self.course_material.book}   \n",
    "              \"\"\")\n",
    "stud = Student(\"Marcus Fenix\",12345)\n",
    "stud1 = Student(\"Clayton Carmine\",6789)\n",
    "ins1 = Instructor(\"Pankaj Sir\",\"C Programming\",123452)\n",
    "ins2 = Instructor(\"Vishwadeep Sir\",\"Operating System\",983773)\n",
    "course = CourseMaterial(\"Intro to pointers\", \"Double pointers\")\n",
    "uni = UniversityCourse()\n",
    "uni.add_students(stud,stud1)\n",
    "uni.add_instructor(ins1,ins2)\n",
    "uni.add_course_material(course)\n",
    "uni.display()"
   ]
  },
  {
   "cell_type": "code",
   "execution_count": 78,
   "metadata": {},
   "outputs": [
    {
     "name": "stdout",
     "output_type": "stream",
     "text": [
      "Composition can make your code more complex because you have to manage how different objects work together. \n"
     ]
    }
   ],
   "source": [
    "#Question 13\n",
    "print(\"Composition can make your code more complex because you have to manage how different objects work together.\")"
   ]
  },
  {
   "cell_type": "code",
   "execution_count": 20,
   "metadata": {},
   "outputs": [
    {
     "name": "stdout",
     "output_type": "stream",
     "text": [
      "Panner Tikka\n",
      "Naan\n"
     ]
    }
   ],
   "source": [
    "#Question 14\n",
    "class Ingredient:\n",
    "    def __init__(self, name):\n",
    "        self.name = name\n",
    "\n",
    "    def display(self):\n",
    "        print(self.name)\n",
    "\n",
    "class Dish:\n",
    "    def __init__(self, name):\n",
    "        self.name = name\n",
    "        self.ingredients = []\n",
    "    def display_ing(self):\n",
    "        for i in self.ingredients:\n",
    "            print(i)\n",
    "    def add_ingredient(self, *args):\n",
    "        for i in args:\n",
    "            self.ingredients.append(i)\n",
    "class Menu:\n",
    "    def __init__(self):\n",
    "        self.dishes = []\n",
    "    def add_dish(self, dish):\n",
    "        self.dishes.append(dish)\n",
    "    def display(self):\n",
    "        for i in self.dishes:\n",
    "            print(i.name)\n",
    "class Restaurant:\n",
    "    def __init__(self, name,menu):\n",
    "        self.name = name\n",
    "        self.menu = menu\n",
    "\n",
    "\n",
    "ingredient1 = Ingredient(\"Paneer\")\n",
    "ingredient2 = Ingredient(\"Yoghurt\")\n",
    "ingredient3 = Ingredient(\"Spices\")\n",
    "dish1 = Dish(\"Panner Tikka\")\n",
    "dish1.add_ingredient(ingredient1,ingredient2,ingredient3)\n",
    "ingredient4 = Ingredient(\"Flour\")\n",
    "ingredient5 = Ingredient(\"Water\")\n",
    "dish2 = Dish(\"Naan\")\n",
    "dish2.add_ingredient(ingredient4,ingredient5)\n",
    "menu = Menu()\n",
    "menu.add_dish(dish1)\n",
    "menu.add_dish(dish2)\n",
    "res = Restaurant(\"PW RES\",menu)\n",
    "res.menu.display()\n"
   ]
  },
  {
   "cell_type": "code",
   "execution_count": 21,
   "metadata": {},
   "outputs": [
    {
     "name": "stdout",
     "output_type": "stream",
     "text": [
      "\n",
      "Composition enhances code maintainability and modularity in Python programs by allowing objects to be built from other objects, promoting reuse and reducing duplication      \n",
      "      \n"
     ]
    }
   ],
   "source": [
    "#Question 15\n",
    "print(\"\"\"\n",
    "Composition enhances code maintainability and modularity in Python programs by allowing objects to be built from other objects, promoting reuse and reducing duplication      \n",
    "      \"\"\")"
   ]
  },
  {
   "cell_type": "code",
   "execution_count": 34,
   "metadata": {},
   "outputs": [
    {
     "name": "stdout",
     "output_type": "stream",
     "text": [
      "AKM\n",
      "AWM\n",
      "M1911\n"
     ]
    }
   ],
   "source": [
    "#Question 16\n",
    "class Weapon:\n",
    "    def __init__(self, name, damage):\n",
    "        self.name  = name\n",
    "        self.damage = damage\n",
    "class Armor:\n",
    "    def __init__(self,name):\n",
    "        self.name = name\n",
    "class Inventory:\n",
    "    def __init__(self):\n",
    "        self.inv = []\n",
    "    def add_weapons(self,*args):\n",
    "        for i in args:\n",
    "            self.inv.append(i)\n",
    "class Character:\n",
    "    def __init__(self,char_name,inventory,health=100):\n",
    "        self.char_name = char_name\n",
    "        self.health = health\n",
    "        self.inventory = inventory\n",
    "    def display(self):\n",
    "        m = self.inventory.inv\n",
    "        for i in range(0,len(self.inventory.inv)):\n",
    "            print(m[i].name)\n",
    "        \n",
    "w1 = Weapon(\"AKM\",33)\n",
    "w2 = Weapon(\"AWM\",105)\n",
    "w3 = Weapon(\"M1911\", 25)\n",
    "inv = Inventory()\n",
    "inv.add_weapons(w1,w2,w3)\n",
    "char = Character(\"Viktor999\",inv)\n",
    "char.display()\n"
   ]
  },
  {
   "cell_type": "code",
   "execution_count": 35,
   "metadata": {},
   "outputs": [
    {
     "name": "stdout",
     "output_type": "stream",
     "text": [
      "\n",
      "Aggregation in composition involves objects being part of another object but able to exist independently.\n",
      "Simple composition tightly connects objects, where one cannot function without the other.      \n",
      "      \n"
     ]
    }
   ],
   "source": [
    "#Question 17\n",
    "print(\"\"\"\n",
    "Aggregation in composition involves objects being part of another object but able to exist independently.\n",
    "Simple composition tightly connects objects, where one cannot function without the other.      \n",
    "      \"\"\")"
   ]
  },
  {
   "cell_type": "code",
   "execution_count": 41,
   "metadata": {},
   "outputs": [
    {
     "name": "stdout",
     "output_type": "stream",
     "text": [
      "Sofa\n",
      "Kitchen\n",
      "Bedroom\n"
     ]
    }
   ],
   "source": [
    "#Question 18\n",
    "class Furniture:\n",
    "    def __init__(self, name):\n",
    "        self.name = name\n",
    "\n",
    "class Appliance:\n",
    "    def __init__(self, name):\n",
    "        self.name = name\n",
    "\n",
    "class House:\n",
    "    def __init__(self, rooms):\n",
    "        self.rooms = rooms\n",
    "class Room:\n",
    "    def __init__(self, name, area):\n",
    "        self.name = name\n",
    "        self.area = area\n",
    "        self.furnitures = []\n",
    "\n",
    "    def add_furnitures(self,*args):\n",
    "        for i in args:\n",
    "            self.furnitures.append(i)\n",
    "\n",
    "    def display_furnitures(self):\n",
    "        items = self.furnitures\n",
    "        for i in range(0,len(items)):\n",
    "            print(items[i].name)\n",
    "\n",
    " \n",
    "living_room = Room(\"Living Room\", 200)\n",
    "kitchen = Room(\"Kitchen\", 150)\n",
    "bedroom = Room(\"Bedroom\", 180)\n",
    "\n",
    "sofa = Furniture(\"Sofa\")\n",
    "table = Furniture(\"Table\")\n",
    "chair = Furniture(\"Chair\")\n",
    "\n",
    "fridge = Appliance(\"Fridge\")\n",
    "oven = Appliance(\"Oven\")\n",
    "\n",
    "living_room.add_furnitures(sofa,kitchen,bedroom)\n",
    "living_room.display_furnitures()\n",
    "\n"
   ]
  },
  {
   "cell_type": "code",
   "execution_count": 42,
   "metadata": {},
   "outputs": [
    {
     "name": "stdout",
     "output_type": "stream",
     "text": [
      "\n",
      "      \n",
      "You can achieve flexibility in composed objects by implementing methods that allow for the dynamic replacement or modification of their components. \n",
      "      \n"
     ]
    }
   ],
   "source": [
    "#Question 19\n",
    "print(\"\"\"\n",
    "You can achieve flexibility in composed objects by implementing methods that allow for the dynamic replacement or modification of their components. \n",
    "      \"\"\")"
   ]
  },
  {
   "cell_type": "code",
   "execution_count": 58,
   "metadata": {},
   "outputs": [
    {
     "name": "stdout",
     "output_type": "stream",
     "text": [
      "best language\n",
      "I really like R\n",
      "\n",
      "\n",
      "Best laptop brand\n",
      "Its a personal choice\n",
      "\n",
      "\n",
      "Image of a dog\n",
      "My dog: Kim\n",
      "\n",
      "\n",
      "Image of his laptop\n",
      "My new Laptop\n",
      "\n",
      "\n"
     ]
    }
   ],
   "source": [
    "#Question 20\n",
    "class User:\n",
    "    def __init__(self, username):\n",
    "        self.username = username\n",
    "        self.post = []\n",
    "        self.comments = []\n",
    "    def add_post(self,*args):\n",
    "        for i in args:\n",
    "            self.post.append(i)\n",
    "    def add_comment(self,*args):\n",
    "        for i in args:\n",
    "            self.comments.append(i)\n",
    "    def show_posts(self):\n",
    "        post = self.post\n",
    "        for i in range(0,len(post)):\n",
    "            print(post[i].image)\n",
    "            print(post[i].caption)\n",
    "            print(\"\\n\")\n",
    "    def show_comments(self):\n",
    "        comment = self.comments\n",
    "        for i in range(0,len(comment)):\n",
    "            print(comment[i].post_name)\n",
    "            print(comment[i].comment)\n",
    "            print(\"\\n\")\n",
    "class Comments:\n",
    "    def __init__(self,post_name,comment):\n",
    "        self.post_name = post_name\n",
    "        self.comment = comment\n",
    "class Post:\n",
    "    def __init__(self,image,caption):\n",
    "        self.image = image\n",
    "        self.caption = caption\n",
    "user = User(\"janedoe11234\")\n",
    "post1 = Post(\"Image of a dog\",\"My dog: Kim\")\n",
    "post2 = Post(\"Image of his laptop\",\"My new Laptop\")\n",
    "user.add_post(post1,post2)\n",
    "comment1 = Comments(\"best language\",\"I really like R\")\n",
    "comment2 = Comments(\"Best laptop brand\",\"Its a personal choice\")\n",
    "user.add_comment(comment1,comment2)\n",
    "user.show_comments()\n",
    "user.show_posts()"
   ]
  },
  {
   "cell_type": "code",
   "execution_count": 61,
   "metadata": {},
   "outputs": [
    {
     "name": "stdout",
     "output_type": "stream",
     "text": [
      "This Assignment took me too long 🥲\n"
     ]
    }
   ],
   "source": [
    "print(\"This Assignment took me too long 🥲\")\n"
   ]
  },
  {
   "cell_type": "code",
   "execution_count": null,
   "metadata": {},
   "outputs": [],
   "source": []
  },
  {
   "cell_type": "code",
   "execution_count": null,
   "metadata": {},
   "outputs": [],
   "source": []
  }
 ],
 "metadata": {
  "kernelspec": {
   "display_name": "Python 3 (ipykernel)",
   "language": "python",
   "name": "python3"
  },
  "language_info": {
   "codemirror_mode": {
    "name": "ipython",
    "version": 3
   },
   "file_extension": ".py",
   "mimetype": "text/x-python",
   "name": "python",
   "nbconvert_exporter": "python",
   "pygments_lexer": "ipython3",
   "version": "3.12.2"
  }
 },
 "nbformat": 4,
 "nbformat_minor": 4
}
